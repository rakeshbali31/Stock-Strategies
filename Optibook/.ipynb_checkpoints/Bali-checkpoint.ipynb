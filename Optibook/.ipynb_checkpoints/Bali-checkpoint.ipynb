{
 "cells": [
  {
   "cell_type": "code",
   "execution_count": 14,
   "id": "f5833223",
   "metadata": {},
   "outputs": [],
   "source": [
    "import time\n",
    "from collections import deque\n",
    "from optibook.synchronous_client import Exchange\n",
    "import logging\n",
    "\n",
    "logger = logging.getLogger('client')\n",
    "logger.setLevel('INFO')\n",
    "\n",
    "exchange = Exchange()\n",
    "exchange.connect()"
   ]
  },
  {
   "cell_type": "code",
   "execution_count": 37,
   "id": "69ad5bef",
   "metadata": {},
   "outputs": [],
   "source": [
    "positions = {}"
   ]
  },
  {
   "cell_type": "code",
   "execution_count": 10,
   "id": "509def83",
   "metadata": {},
   "outputs": [],
   "source": [
    "# Define the specific pairs of original and dual-listed stocks\n",
    "stock_pairs = [\n",
    "    ('NVDA', 'NVDA_DUAL'),\n",
    "    ('SAN', 'SAN_DUAL')\n",
    "]\n",
    "\n",
    "tradable_assets = ['NVDA','NVDA_DUAL','SAN','SAN_DUAL']"
   ]
  },
  {
   "cell_type": "code",
   "execution_count": 15,
   "id": "b01ac178",
   "metadata": {},
   "outputs": [
    {
     "name": "stdout",
     "output_type": "stream",
     "text": [
      "{'NVDA': {'bid': deque([0, 0, 0, 0, 0, 0, 0, 0, 0, 0], maxlen=10), 'ask': deque([0, 0, 0, 0, 0, 0, 0, 0, 0, 0], maxlen=10)}, 'NVDA_DUAL': {'bid': deque([0, 0, 0, 0, 0, 0, 0, 0, 0, 0], maxlen=10), 'ask': deque([0, 0, 0, 0, 0, 0, 0, 0, 0, 0], maxlen=10)}, 'SAN': {'bid': deque([0, 0, 0, 0, 0, 0, 0, 0, 0, 0], maxlen=10), 'ask': deque([0, 0, 0, 0, 0, 0, 0, 0, 0, 0], maxlen=10)}, 'SAN_DUAL': {'bid': deque([0, 0, 0, 0, 0, 0, 0, 0, 0, 0], maxlen=10), 'ask': deque([0, 0, 0, 0, 0, 0, 0, 0, 0, 0], maxlen=10)}}\n"
     ]
    }
   ],
   "source": [
    "# Global Variables\n",
    "price_history = {}\n",
    "for asset in tradable_assets:\n",
    "    price_history[asset] = {'bid':deque([1] * 50, maxlen=10), 'ask':deque([1] * 100, maxlen=10)}\n",
    "print(price_history)"
   ]
  },
  {
   "cell_type": "code",
   "execution_count": 12,
   "id": "bb742e6b",
   "metadata": {},
   "outputs": [],
   "source": [
    "# # Initialize dictionary to track positions dynamically\n",
    "# def initialize_positions():\n",
    "#     for original_stock, dual_stock in stock_pairs:\n",
    "#         positions[dual_stock] = exchange.get_positions()[dual_stock]\n",
    "#         positions[original_stock] = exchange.get_positions()[dual_stock]\n",
    "#     return positions"
   ]
  },
  {
   "cell_type": "code",
   "execution_count": 35,
   "id": "85568eb9",
   "metadata": {},
   "outputs": [],
   "source": [
    "def get_best_prices(stock):\n",
    "    order_book = exchange.get_last_price_book(stock)\n",
    "    if not order_book.bids:\n",
    "        best_bid = price_history[stock]['bid'][0]\n",
    "        price_history[stock]['bid'].appendleft(best_bid)\n",
    "    else:\n",
    "        price_history[stock]['bid'].appendleft(order_book.bids[0].price)\n",
    "        best_bid = round(sum(price_history[stock]['bid'])/10, 1)\n",
    "        \n",
    "    if not order_book.asks:\n",
    "        best_ask = price_history[stock]['ask'][0]\n",
    "        price_history[stock]['ask'].appendleft(best_ask)\n",
    "    else:\n",
    "        price_history[stock]['ask'].appendleft(order_book.asks[0].price)\n",
    "        best_ask = round(sum(price_history[stock]['ask'])/10, 1)\n",
    "    \n",
    "    if best_bid - best_ask >= 0.3:\n",
    "        best_bid += 0.1\n",
    "        best_ask -= 0.1      \n",
    "    return {\"bid\": best_bid, \"ask\": best_ask}"
   ]
  },
  {
   "cell_type": "code",
   "execution_count": 34,
   "id": "483d4402",
   "metadata": {},
   "outputs": [],
   "source": [
    "def adjustBidAskForHedge(stock, bidAskDict):\n",
    "    position = exchange.get_positions()[stock]\n",
    "    if position > 0:\n",
    "        bidAskDict[\"ask\"] -= round(position * 0.002, 1)\n",
    "    elif position < 0:\n",
    "        bidAskDict[\"bid\"] -= round(position * 0.002, 1)\n",
    "    return bidAskDict"
   ]
  },
  {
   "cell_type": "code",
   "execution_count": null,
   "id": "3ac4dbd9",
   "metadata": {},
   "outputs": [],
   "source": [
    "def checkValidBidAsk(stock, bidAskDict):\n",
    "    position = exchange.get_positions()[stock]\n",
    "    spread = bidAskDict['ask'] - bidAskDict['bid']\n",
    "    if spread < 0:\n",
    "        if position > 0:\n",
    "            bidAskDict[\"bid\"] = bidAskDict[\"ask\"] - 0.10\n",
    "        if position <= 0:\n",
    "            bidAskDict[\"ask\"] = bidAskDict[\"bid\"] + 0.10\n",
    "    return bidAskDict"
   ]
  },
  {
   "cell_type": "code",
   "execution_count": 7,
   "id": "e6f744ad",
   "metadata": {},
   "outputs": [],
   "source": [
    "def checkSpreadOfOrig(stock, bidAskDict):\n",
    "    order_book = exchange.get_last_price_book(instrument_id=stock)\n",
    "    if order_book.asks:\n",
    "        while bidAskDict[\"ask\"] <= order_book.asks[0].price:\n",
    "            bidAskDict[\"ask\"] += 0.1\n",
    "    if order_book.bids:\n",
    "        while bidAskDict[\"bid\"] >= order_book.bids[0].price:\n",
    "            bidAskDict[\"bid\"] -= 0.1       \n",
    "    return bidAskDict"
   ]
  },
  {
   "cell_type": "code",
   "execution_count": 39,
   "id": "37781376",
   "metadata": {},
   "outputs": [],
   "source": [
    "# Hedge the underlying position\n",
    "def hedge(stock_pair):\n",
    "    positions = exchange.get_positions()\n",
    "    original_stock, dual_stock = stock_pair\n",
    "    positionTotal = positions[original_stock] + positions[dual_stock]\n",
    "\n",
    "    if positionTotal > 0:\n",
    "        order_book = exchange.get_last_price_book(instrument_id=original_stock)\n",
    "        if order_book.bids:\n",
    "            bestPrice = order_book.bids[0].price\n",
    "        if bestPrice:\n",
    "            placeOrder(original_stock, bestPrice, positionTotal, False, order_type=\"ioc\")\n",
    "                \n",
    "    if positionTotal < 0:\n",
    "        order_book = exchange.get_last_price_book(instrument_id=original_stock)\n",
    "        if order_book.asks:\n",
    "            bestPrice = order_book.asks[0].price\n",
    "        if bestPrice:\n",
    "            placeOrder(original_stock, bestPrice, positionTotal, True, order_type=\"ioc\")"
   ]
  },
  {
   "cell_type": "code",
   "execution_count": 33,
   "id": "a192a7bc",
   "metadata": {},
   "outputs": [],
   "source": [
    "def placeOrder(stock, price, quantity, bid, orderType):\n",
    "    if bid:\n",
    "        exchange.insert_order(stock, price=price, volume=quantity, side='bid', order_type=orderType)\n",
    "    else:\n",
    "        exchange.insert_order(stock, price=price, volume=quantity, side='ask', order_type=orderType)"
   ]
  },
  {
   "cell_type": "code",
   "execution_count": 32,
   "id": "37a8998b",
   "metadata": {},
   "outputs": [],
   "source": [
    "def deleteOutstandingOrders(stock):\n",
    "    outstanding = exchange.get_outstanding_orders(stock)\n",
    "    for order in outstanding.values():\n",
    "        exchange.delete(stock, order_id=order.order_id)"
   ]
  },
  {
   "cell_type": "code",
   "execution_count": null,
   "id": "a389f5cd",
   "metadata": {},
   "outputs": [],
   "source": [
    "def trade():\n",
    "    while True:\n",
    "    for stock_pair in stock_pairs:\n",
    "        original_stock, dual_stock = stock_pair\n",
    "        deleteOutstandingOrders(dual_stock)\n",
    "        \n",
    "        # find the best bid and ask price\n",
    "        bidAskDict = get_best_prices(dual_stock)\n",
    "        bidAskDict = adjustBidAskForHedge(dual_stock, bidAskDict)\n",
    "        bidAskDict = checkValidBidAsk(dual_stock, bidAskDict)\n",
    "        bidAskDict = checkSpreadOfOrig(original_stock)\n",
    "        \n",
    "        positions = exchange.get_positions()\n",
    "        current_position = positions[dual_stock]\n",
    "        bid_volume = max(0, 100 - current_position) * 0.5\n",
    "        ask_volume = max(0, current_position + 100) * 0.5\n",
    "        \n",
    "        if bid_volume > 0:\n",
    "            placeOrder(dual_stock, bidAskDict['bid'], bid_volume, True, \"limit\")\n",
    "\n",
    "        if ask_volume > 0:\n",
    "            placeOrder(dual_stock, bidAskDict['ask'], ask_volume, False, \"limit\")\n",
    "        \n",
    "        # hedge the position\n",
    "        hedge(stock_pair)\n",
    "        \n",
    "        logger.info(positions)\n",
    "        time.sleep(0.05)\n",
    "        \n",
    "        "
   ]
  }
 ],
 "metadata": {
  "kernelspec": {
   "display_name": "Python 3 (ipykernel)",
   "language": "python",
   "name": "python3"
  },
  "language_info": {
   "codemirror_mode": {
    "name": "ipython",
    "version": 3
   },
   "file_extension": ".py",
   "mimetype": "text/x-python",
   "name": "python",
   "nbconvert_exporter": "python",
   "pygments_lexer": "ipython3",
   "version": "3.11.5"
  }
 },
 "nbformat": 4,
 "nbformat_minor": 5
}
