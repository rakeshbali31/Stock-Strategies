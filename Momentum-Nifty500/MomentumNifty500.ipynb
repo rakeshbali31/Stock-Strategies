{
 "cells": [
  {
   "cell_type": "code",
   "execution_count": 1,
   "id": "initial_id",
   "metadata": {
    "ExecuteTime": {
     "end_time": "2025-03-08T10:20:47.144363Z",
     "start_time": "2025-03-08T10:20:47.059038Z"
    },
    "collapsed": true
   },
   "outputs": [],
   "source": [
    "import pandas as pd\n",
    "import yfinance as yf\n",
    "import math\n",
    "import plotly.graph_objects as go\n",
    "from plotly.subplots import make_subplots"
   ]
  },
  {
   "cell_type": "code",
   "execution_count": 2,
   "id": "80c16e493f32e9c4",
   "metadata": {
    "ExecuteTime": {
     "end_time": "2025-03-08T10:20:47.151382Z",
     "start_time": "2025-03-08T10:20:47.144985Z"
    }
   },
   "outputs": [],
   "source": [
    "nifty500df = pd.read_csv('nifty-500.csv')"
   ]
  },
  {
   "cell_type": "code",
   "execution_count": 3,
   "id": "1072b2c624986c86",
   "metadata": {
    "ExecuteTime": {
     "end_time": "2025-03-08T10:20:47.154255Z",
     "start_time": "2025-03-08T10:20:47.152134Z"
    }
   },
   "outputs": [],
   "source": [
    "symbols = nifty500df['NSE Code'].tolist()"
   ]
  },
  {
   "cell_type": "code",
   "execution_count": 4,
   "id": "cd77f158be7fb794",
   "metadata": {
    "ExecuteTime": {
     "end_time": "2025-03-08T10:23:28.915581Z",
     "start_time": "2025-03-08T10:20:47.154839Z"
    }
   },
   "outputs": [],
   "source": [
    "df = pd.DataFrame({'SYMBOL':[], 'MOMENTUM':[], 'CONSISTENCY': [], 'CONFIRMATION': [], 'HPF':[], 'HPM':[], 'LIS':[]})\n",
    "\n",
    "t13 = 7 * 20\n",
    "t7 = 4 * 20\n",
    "t1 = 1 * 20\n",
    "\n",
    "for symbol in symbols:\n",
    "    start_date = pd.to_datetime('today') + pd.DateOffset(-t13)\n",
    "    end_date = pd.to_datetime('today') + pd.DateOffset(-t1)\n",
    "    \n",
    "    data = yf.download(symbol + \".NS\", start=start_date, end=end_date, progress=False)\n",
    "    data.columns = [col[0] for col in data.columns]\n",
    "    \n",
    "    cut_off_date = pd.to_datetime('today') + pd.DateOffset(-10) # To exclude new stocks which don't have data\n",
    "    \n",
    "    if(data.shape[0]==0 or (data.index.min() > cut_off_date)):\n",
    "        continue\n",
    "        \n",
    "    t_7 = pd.to_datetime('today') + pd.DateOffset(-t7)\n",
    "    t_1 = pd.to_datetime('today') + pd.DateOffset(-t1)\n",
    "    \n",
    "    data['Return'] = (data['Close'] - data['Close'].shift(1)) / data['Close'].shift(1)\n",
    "    sub_data = data[(data.index > t_7) & (data.index < t_1)]\n",
    "    \n",
    "    no_of_rows = data.shape[0]\n",
    "    no_of_rows_sub_data = sub_data.shape[0]\n",
    "    \n",
    "    ## INDICATORS\n",
    "\n",
    "    # Momentum: Historical cumulative return from t-13 to t-2 included\n",
    "    \n",
    "    momentum = (data['Close'][no_of_rows-1] - data['Close'][0]) / data['Close'][0]\n",
    "    \n",
    "    # Consistency: Number of days with positive returns (historical from t-7 to t-2 included)\n",
    "    \n",
    "    consistency = sub_data[sub_data['Return'] > 0].shape[0]\n",
    "    \n",
    "    # Confirmation Sum of daily returns (historical from t-7 to t-2 included)\n",
    "    \n",
    "    confirmation = sub_data['Return'].sum()\n",
    "    \n",
    "    # Highest Price Factor - Current price/Highest price reached in historical t-7 to t-2\n",
    "    \n",
    "    highest_price_factor = sub_data['Close'][no_of_rows_sub_data-1] / sub_data['Close'].max()\n",
    "    \n",
    "    # High-to-Price Momentum: Log ratio of the highest price reached to the initial price during the \n",
    "    # formation period from t-13 to t-2\n",
    "    \n",
    "    high_to_momentum = math.log(data['Close'].max() / data['Close'][0])\n",
    "    \n",
    "    # Volatility Indicator\n",
    "    \n",
    "    volatility = 1 - sub_data['Return'].std()\n",
    "    \n",
    "    # LIS\n",
    "    \n",
    "    close_prices = sub_data['Close'].values\n",
    "    lis = [1] * len(close_prices)\n",
    "    for i in range(1,len(close_prices)):\n",
    "        subproblems = [lis[k] for k in range(i) if close_prices[k] < close_prices[i]]\n",
    "        lis[i] = 1 + max(subproblems, default=0)\n",
    "    lis_max = max(lis, default=0)\n",
    "    \n",
    "    \n",
    "    new_row = pd.DataFrame({'SYMBOL':[symbol], \n",
    "                              'MOMENTUM':[momentum], \n",
    "                              'CONSISTENCY': [consistency], \n",
    "                              'CONFIRMATION': [confirmation], \n",
    "                              'HPF':[highest_price_factor],\n",
    "                              'VOLATILITY':[volatility], \n",
    "                              'HPM':[high_to_momentum],\n",
    "                              'LIS': [lis_max]})\n",
    "\n",
    "    df = pd.concat([df, new_row], ignore_index=True)\n",
    "\n",
    "df.set_index('SYMBOL', inplace=True)\n",
    "df_rank = df.drop(columns=['LIS']).rank()\n",
    "\n",
    "# Concatenate the rank DataFrame with the excluded column\n",
    "df_rank = pd.concat([df['LIS'], df_rank], axis=1)\n",
    "\n",
    "df_rank['MACRO_SIGNAL'] = df_rank['MOMENTUM']\n",
    "df_rank['PERSISTENCY_SIGNAL'] = (df_rank['CONSISTENCY'] + df_rank['CONFIRMATION'] + df_rank['HPF']) / 3\n",
    "df_rank['MOMENTUM_SIGNAL'] = 0.5 * df_rank['MACRO_SIGNAL'] + 0.5 * df_rank['PERSISTENCY_SIGNAL']\n",
    "df_rank['MOMENTUM_HTP_SIGNAL'] = 0.5 * df_rank['MOMENTUM_SIGNAL'] + 0.5 * df_rank['HPM']\n",
    "\n",
    "result = df_rank['MOMENTUM_HTP_SIGNAL'].sort_values(ascending=False)\n",
    "print('Execution Completed !!!')"
   ]
  },
  {
   "cell_type": "code",
   "execution_count": 5,
   "id": "fa5e1c3774f39a04",
   "metadata": {
    "ExecuteTime": {
     "end_time": "2025-03-08T10:23:28.921938Z",
     "start_time": "2025-03-08T10:23:28.916612Z"
    }
   },
   "outputs": [],
   "source": [
    "result"
   ]
  },
  {
   "cell_type": "code",
   "execution_count": 7,
   "id": "5155563d2c41e9d3",
   "metadata": {
    "ExecuteTime": {
     "end_time": "2025-03-08T10:27:08.449425Z",
     "start_time": "2025-03-08T10:26:58.509395Z"
    }
   },
   "outputs": [],
   "source": [
    "def download_stock_data(symbol):\n",
    "    data = yf.download(symbol + \".NS\", start=pd.to_datetime('today') - pd.DateOffset(365),\n",
    "                       end=pd.to_datetime('today') + pd.DateOffset(1), progress=False)\n",
    "    data.columns = [col[0] for col in data.columns]\n",
    "    return data\n",
    "    \n",
    "\n",
    "def calculate_technical_indicators(data):\n",
    "    data['5DMA'] = data['Close'].rolling(window=5).mean()\n",
    "    data['20DMA'] = data['Close'].rolling(window=20).mean()\n",
    "    data['50DMA'] = data['Close'].rolling(window=50).mean()\n",
    "    data['100DMA'] = data['Close'].rolling(window=100).mean()\n",
    "    data['diff'] = data['Close'] - data['Open']\n",
    "    data['color'] = data['diff'].apply(lambda x: 'green' if x >= 0 else 'red')\n",
    "    return data\n",
    "\n",
    "def plot_stock_data(symbol, data):\n",
    "    # Filter data to only include the last 360 days\n",
    "    plot_data = data[data.index > (pd.Timestamp.now() - pd.DateOffset(days=360))]\n",
    "\n",
    "    # Setup subplot layout\n",
    "    figure = make_subplots(rows=1, cols=1, specs=[[{\"secondary_y\": True}]])\n",
    "    \n",
    "    # Plot candlestick chart\n",
    "    figure.add_trace(go.Candlestick(x=plot_data.index,\n",
    "                                    open=plot_data['Open'],\n",
    "                                    high=plot_data['High'],\n",
    "                                    low=plot_data['Low'],\n",
    "                                    close=plot_data['Close'],\n",
    "                                    name='Price'), row=1, col=1)\n",
    "    \n",
    "    # Plot moving averages\n",
    "    for ma, color in zip(['5DMA', '20DMA', '50DMA', '100DMA'], ['yellow', 'blue', 'orange', 'green']):\n",
    "        figure.add_trace(go.Scatter(x=plot_data.index, y=plot_data[ma], marker_color=color, name=f'{ma}'), row=1, col=1)\n",
    "\n",
    "    # Plot volume with color-coded bars (green for positive, red for negative days)\n",
    "    figure.add_trace(go.Bar(x=plot_data.index, y=plot_data['Volume'], name='Volume',\n",
    "                            marker={'color': plot_data['color']}), secondary_y=True, row=1, col=1)\n",
    "\n",
    "    # Update axes\n",
    "    figure.update_yaxes(range=[plot_data['Close'].min()*0.8, plot_data['Close'].max()*1.2], row=1, col=1)\n",
    "    figure.update_xaxes(rangebreaks=[dict(bounds=['sat', 'mon'])], row=1, col=1)  # Hide weekends\n",
    "    figure.update_layout(title={'text': symbol, 'x': 0.5}, xaxis_rangeslider_visible=False)\n",
    "\n",
    "    # Hide the secondary Y-axis (volume)\n",
    "    figure.update_yaxes(range=[0, plot_data['Volume'].max()*5], secondary_y=True, row=1, col=1)\n",
    "    figure.update_yaxes(visible=False, secondary_y=True, row=1, col=1)\n",
    "\n",
    "    return figure\n",
    "\n",
    "\n",
    "def process_stocks(all_symbols):\n",
    "    num_processed = 0\n",
    "    file_count = 1\n",
    "    while num_processed < len(all_symbols):\n",
    "        \n",
    "        figure_html = open(f'/Users/rakeshbali/Imperial/Stock Research/Shortlisted/Momentum-Nifty500/Momentum-Nifty500.html', 'w')\n",
    "        for symbol in all_symbols[num_processed:num_processed+100]:\n",
    "            try:\n",
    "                data = download_stock_data(symbol)\n",
    "                data = calculate_technical_indicators(data)\n",
    "                figure = plot_stock_data(symbol, data)\n",
    "                figure_html.write(figure.to_html(full_html=False))\n",
    "            except Exception as e:\n",
    "                print(f\"Error processing symbol {symbol}: {e}\")\n",
    "        figure_html.close()\n",
    "        num_processed += 100\n",
    "        file_count += 1\n",
    "\n",
    "\n",
    "if __name__ == \"__main__\":\n",
    "    symbols = result.index.values[:50]\n",
    "    process_stocks(symbols)\n",
    "    print('Execution Completed!!!!')"
   ]
  },
  {
   "cell_type": "code",
   "execution_count": 6,
   "id": "57e95c9221916ead",
   "metadata": {
    "ExecuteTime": {
     "end_time": "2025-03-08T10:23:45.275002Z",
     "start_time": "2025-03-08T10:23:45.273709Z"
    }
   },
   "outputs": [],
   "source": []
  }
 ],
 "metadata": {
  "kernelspec": {
   "display_name": "Python 3 (ipykernel)",
   "language": "python",
   "name": "python3"
  },
  "language_info": {
   "codemirror_mode": {
    "name": "ipython",
    "version": 3
   },
   "file_extension": ".py",
   "mimetype": "text/x-python",
   "name": "python",
   "nbconvert_exporter": "python",
   "pygments_lexer": "ipython3",
   "version": "3.11.5"
  }
 },
 "nbformat": 4,
 "nbformat_minor": 5
}
