{
 "cells": [
  {
   "cell_type": "code",
   "id": "initial_id",
   "metadata": {
    "collapsed": true,
    "ExecuteTime": {
     "end_time": "2024-07-14T07:35:41.131196Z",
     "start_time": "2024-07-14T07:35:41.126294Z"
    }
   },
   "source": "import pandas as pd",
   "execution_count": 4,
   "outputs": []
  },
  {
   "metadata": {
    "ExecuteTime": {
     "end_time": "2024-07-14T07:35:42.261624Z",
     "start_time": "2024-07-14T07:35:41.877243Z"
    }
   },
   "cell_type": "code",
   "source": [
    "# Assuming the CSV file is named 'stock_data.csv'\n",
    "df = pd.read_csv('combined_stock_data.csv')"
   ],
   "id": "6d25ea95654612fa",
   "execution_count": 5,
   "outputs": []
  },
  {
   "metadata": {
    "ExecuteTime": {
     "end_time": "2024-07-14T07:35:55.216011Z",
     "start_time": "2024-07-14T07:35:54.853495Z"
    }
   },
   "cell_type": "code",
   "source": [
    "# Ensure the Date column is in datetime format\n",
    "df['Date'] = pd.to_datetime(df['Date'])\n",
    "\n",
    "# Sort the data by Date for each Symbol\n",
    "df = df.sort_values(by=['Symbol', 'Date'])\n",
    "\n",
    "# Calculate the daily returns\n",
    "df['Daily_Return'] = df.groupby('Symbol')['Adj Close'].pct_change()"
   ],
   "id": "d4e5dc6e231f14d0",
   "execution_count": 6,
   "outputs": []
  },
  {
   "metadata": {
    "ExecuteTime": {
     "end_time": "2024-07-14T07:37:12.916463Z",
     "start_time": "2024-07-14T07:37:12.912722Z"
    }
   },
   "cell_type": "code",
   "source": "df.set_index('Date', inplace=True)\n",
   "id": "4b37548ffd120e56",
   "execution_count": 8,
   "outputs": []
  },
  {
   "metadata": {
    "ExecuteTime": {
     "end_time": "2024-07-14T07:39:19.844343Z",
     "start_time": "2024-07-14T07:39:19.834959Z"
    }
   },
   "cell_type": "code",
   "source": "df",
   "id": "9e8e173568d0ff76",
   "execution_count": 9,
   "outputs": []
  },
  {
   "metadata": {
    "ExecuteTime": {
     "end_time": "2024-07-14T07:40:02.170043Z",
     "start_time": "2024-07-14T07:40:01.924102Z"
    }
   },
   "cell_type": "code",
   "source": "returns_df = df.pivot(columns='Symbol', values='Daily_Return')",
   "id": "23d8920936babf92",
   "execution_count": 10,
   "outputs": []
  },
  {
   "metadata": {
    "ExecuteTime": {
     "end_time": "2024-07-14T07:40:08.099131Z",
     "start_time": "2024-07-14T07:40:08.085861Z"
    }
   },
   "cell_type": "code",
   "source": "returns_df",
   "id": "e01083509b5f56d3",
   "execution_count": 11,
   "outputs": []
  },
  {
   "metadata": {
    "ExecuteTime": {
     "end_time": "2024-07-14T10:57:56.761859Z",
     "start_time": "2024-07-14T10:57:51.176146Z"
    }
   },
   "cell_type": "code",
   "source": [
    "import pandas as pd\n",
    "import numpy as np\n",
    "\n",
    "df = pd.read_csv('combined_stock_data.csv')\n",
    "\n",
    "# Ensure the 'Date' column is a datetime type\n",
    "df['Date'] = pd.to_datetime(df['Date'])\n",
    "\n",
    "# Add a column for year and month\n",
    "df['YearMonth'] = df['Date'].dt.to_period('M')\n",
    "\n",
    "# Calculate daily returns\n",
    "df['Daily_Return'] = df.groupby('Symbol')['Adj Close'].pct_change()\n",
    "\n",
    "# Calculate monthly returns by compounding daily returns\n",
    "df['Monthly_Return'] = df.groupby(['Symbol', 'YearMonth'])['Daily_Return'].apply(lambda x: (1 + x).prod() - 1)\n",
    "\n",
    "# Calculate average daily turnover\n",
    "df['Daily_Turnover'] = df['Volume'] / df['Outstanding_Shares']\n",
    "df['Monthly_Avg_Turnover'] = df.groupby(['Symbol', 'YearMonth'])['Daily_Turnover'].transform('mean')\n",
    "\n",
    "# Aggregate monthly data\n",
    "monthly_df = df.groupby(['Symbol', 'YearMonth']).agg({\n",
    "    'Monthly_Return': 'last',\n",
    "    'Monthly_Avg_Turnover': 'last'\n",
    "}).reset_index()\n",
    "\n",
    "# Define the ranking period (J months) and holding period (K months)\n",
    "J = 3\n",
    "K = 1\n",
    "\n",
    "# Rank stocks based on past J-month returns and turnover\n",
    "monthly_df['Rank_Return'] = monthly_df.groupby('YearMonth')['Monthly_Return'].rank(method='first')\n",
    "monthly_df['Rank_Turnover'] = monthly_df.groupby('YearMonth')['Monthly_Avg_Turnover'].rank(method='first')\n",
    "\n",
    "# Define the number of return and turnover portfolios\n",
    "num_return_portfolios = 5\n",
    "num_turnover_portfolios = 3\n",
    "\n",
    "# Assign stocks to return portfolios\n",
    "monthly_df['Return_Portfolio'] = monthly_df.groupby('YearMonth')['Rank_Return'].apply(lambda x: pd.qcut(x, num_return_portfolios, labels=False))\n",
    "\n",
    "# Assign stocks to turnover portfolios\n",
    "monthly_df['Turnover_Portfolio'] = monthly_df.groupby('YearMonth')['Rank_Turnover'].apply(lambda x: pd.qcut(x, num_turnover_portfolios, labels=False))\n",
    "\n",
    "# Combine return and turnover portfolios to create the final portfolios\n",
    "monthly_df['Final_Portfolio'] = monthly_df['Return_Portfolio'].astype(str) + '-' + monthly_df['Turnover_Portfolio'].astype(str)\n",
    "\n",
    "# Calculate portfolio metrics (e.g., average return) for each holding period\n",
    "portfolio_returns = monthly_df.groupby(['YearMonth', 'Final_Portfolio']).agg({\n",
    "    'Monthly_Return': 'mean',\n",
    "    'Monthly_Avg_Turnover': 'mean'\n",
    "}).reset_index()\n",
    "\n",
    "# Display the results\n",
    "print(portfolio_returns)\n"
   ],
   "id": "f28b8739796cea90",
   "execution_count": 12,
   "outputs": []
  },
  {
   "metadata": {},
   "cell_type": "code",
   "execution_count": null,
   "source": "",
   "id": "abcf69827c479f27",
   "outputs": []
  }
 ],
 "metadata": {
  "kernelspec": {
   "display_name": "Python 3",
   "language": "python",
   "name": "python3"
  },
  "language_info": {
   "codemirror_mode": {
    "name": "ipython",
    "version": 2
   },
   "file_extension": ".py",
   "mimetype": "text/x-python",
   "name": "python",
   "nbconvert_exporter": "python",
   "pygments_lexer": "ipython2",
   "version": "2.7.6"
  }
 },
 "nbformat": 4,
 "nbformat_minor": 5
}
