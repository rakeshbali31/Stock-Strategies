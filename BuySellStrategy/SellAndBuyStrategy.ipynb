{
 "cells": [
  {
   "cell_type": "code",
   "execution_count": 10,
   "id": "d19fc8bb",
   "metadata": {},
   "outputs": [],
   "source": [
    "import requests\n",
    "from bs4 import BeautifulSoup\n",
    "import pandas as pd\n",
    "import yfinance as yf\n",
    "import math\n",
    "\n",
    "from kite_trade import KiteAPI"
   ]
  },
  {
   "cell_type": "code",
   "execution_count": 11,
   "id": "5a48b222",
   "metadata": {},
   "outputs": [],
   "source": [
    "# AVVA\n",
    "kiteAvva = KiteAPI(\"2pj8TcisHNvtWfkrekfcRnaNQqEO+A4wfwEDqei/SyBAuj6zwk0BMsR0HjkJgprE1IOWtsq6QB90ZB+spuNOHMv3JJMVKlrkgxDk7N6EbFNHmgqytVedFw==\")"
   ]
  },
  {
   "cell_type": "code",
   "execution_count": 3,
   "id": "4ea02079",
   "metadata": {},
   "outputs": [],
   "source": [
    "# ISHWAR\n",
    "kiteIshwar = KiteAPI(\"yGJqY3pIUtp78N8otb2oLu8ShrVRNsGR/K9mSM8ifLuI9Vp+qv//mT4+rMyUvyGM3v28EQqKAkPom9+Z+I6hOtdElcSmFn4XgLVEt1d54+/MDGGXY1peZQ==\")"
   ]
  },
  {
   "cell_type": "code",
   "execution_count": 4,
   "id": "01695c5c",
   "metadata": {},
   "outputs": [],
   "source": [
    "# RAKESH\n",
    "kiteRakesh = KiteAPI(\"G4Rh53SmcXaFRpCb6RcWiSkVkP2HHK0B4qPoYpSi3AN7A4JrtbmTd1fK4s/xSCH1eystouHs6Z0ED9QdEY79qMp4t4qMrWn2/JxiCsrF4LRiRcnCOf/6dw==\")"
   ]
  },
  {
   "cell_type": "code",
   "execution_count": 12,
   "id": "c4cd616c",
   "metadata": {},
   "outputs": [
    {
     "ename": "HTTPError",
     "evalue": "400 Client Error: Bad Request for url: https://api.kite.trade/portfolio/holdings",
     "output_type": "error",
     "traceback": [
      "\u001b[0;31m---------------------------------------------------------------------------\u001b[0m",
      "\u001b[0;31mHTTPError\u001b[0m                                 Traceback (most recent call last)",
      "Cell \u001b[0;32mIn[12], line 2\u001b[0m\n\u001b[1;32m      1\u001b[0m kite \u001b[38;5;241m=\u001b[39m kiteAvva\n\u001b[0;32m----> 2\u001b[0m holdings \u001b[38;5;241m=\u001b[39m pd\u001b[38;5;241m.\u001b[39mDataFrame(kite\u001b[38;5;241m.\u001b[39mholdings())\n\u001b[1;32m      3\u001b[0m holdings\n",
      "File \u001b[0;32m~/Imperial/Stock Research/Shortlisted/BuySellStrategy/kite_trade.py:107\u001b[0m, in \u001b[0;36mKiteAPI.holdings\u001b[0;34m(self)\u001b[0m\n\u001b[1;32m    106\u001b[0m \u001b[38;5;28;01mdef\u001b[39;00m \u001b[38;5;21mholdings\u001b[39m(\u001b[38;5;28mself\u001b[39m):\n\u001b[0;32m--> 107\u001b[0m     response \u001b[38;5;241m=\u001b[39m \u001b[38;5;28mself\u001b[39m\u001b[38;5;241m.\u001b[39m_make_request(\u001b[38;5;124m\"\u001b[39m\u001b[38;5;124mGET\u001b[39m\u001b[38;5;124m\"\u001b[39m, \u001b[38;5;124m\"\u001b[39m\u001b[38;5;124m/portfolio/holdings\u001b[39m\u001b[38;5;124m\"\u001b[39m)\n\u001b[1;32m    108\u001b[0m     \u001b[38;5;28;01mreturn\u001b[39;00m response[\u001b[38;5;124m\"\u001b[39m\u001b[38;5;124mdata\u001b[39m\u001b[38;5;124m\"\u001b[39m]\n",
      "File \u001b[0;32m~/Imperial/Stock Research/Shortlisted/BuySellStrategy/kite_trade.py:47\u001b[0m, in \u001b[0;36mKiteAPI._make_request\u001b[0;34m(self, method, endpoint, params, data)\u001b[0m\n\u001b[1;32m     45\u001b[0m url \u001b[38;5;241m=\u001b[39m \u001b[38;5;124mf\u001b[39m\u001b[38;5;124m\"\u001b[39m\u001b[38;5;132;01m{\u001b[39;00m\u001b[38;5;28mself\u001b[39m\u001b[38;5;241m.\u001b[39mroot_url\u001b[38;5;132;01m}\u001b[39;00m\u001b[38;5;132;01m{\u001b[39;00mendpoint\u001b[38;5;132;01m}\u001b[39;00m\u001b[38;5;124m\"\u001b[39m\n\u001b[1;32m     46\u001b[0m response \u001b[38;5;241m=\u001b[39m \u001b[38;5;28mself\u001b[39m\u001b[38;5;241m.\u001b[39msession\u001b[38;5;241m.\u001b[39mrequest(method, url, params\u001b[38;5;241m=\u001b[39mparams, data\u001b[38;5;241m=\u001b[39mdata, headers\u001b[38;5;241m=\u001b[39m\u001b[38;5;28mself\u001b[39m\u001b[38;5;241m.\u001b[39mheaders)\n\u001b[0;32m---> 47\u001b[0m response\u001b[38;5;241m.\u001b[39mraise_for_status()\n\u001b[1;32m     48\u001b[0m \u001b[38;5;28;01mreturn\u001b[39;00m response\u001b[38;5;241m.\u001b[39mjson()\n",
      "File \u001b[0;32m~/anaconda3/lib/python3.11/site-packages/requests/models.py:1021\u001b[0m, in \u001b[0;36mResponse.raise_for_status\u001b[0;34m(self)\u001b[0m\n\u001b[1;32m   1016\u001b[0m     http_error_msg \u001b[38;5;241m=\u001b[39m (\n\u001b[1;32m   1017\u001b[0m         \u001b[38;5;124mf\u001b[39m\u001b[38;5;124m\"\u001b[39m\u001b[38;5;132;01m{\u001b[39;00m\u001b[38;5;28mself\u001b[39m\u001b[38;5;241m.\u001b[39mstatus_code\u001b[38;5;132;01m}\u001b[39;00m\u001b[38;5;124m Server Error: \u001b[39m\u001b[38;5;132;01m{\u001b[39;00mreason\u001b[38;5;132;01m}\u001b[39;00m\u001b[38;5;124m for url: \u001b[39m\u001b[38;5;132;01m{\u001b[39;00m\u001b[38;5;28mself\u001b[39m\u001b[38;5;241m.\u001b[39murl\u001b[38;5;132;01m}\u001b[39;00m\u001b[38;5;124m\"\u001b[39m\n\u001b[1;32m   1018\u001b[0m     )\n\u001b[1;32m   1020\u001b[0m \u001b[38;5;28;01mif\u001b[39;00m http_error_msg:\n\u001b[0;32m-> 1021\u001b[0m     \u001b[38;5;28;01mraise\u001b[39;00m HTTPError(http_error_msg, response\u001b[38;5;241m=\u001b[39m\u001b[38;5;28mself\u001b[39m)\n",
      "\u001b[0;31mHTTPError\u001b[0m: 400 Client Error: Bad Request for url: https://api.kite.trade/portfolio/holdings"
     ]
    }
   ],
   "source": [
    "kite = kiteAvva\n",
    "holdings = pd.DataFrame(kite.holdings())\n",
    "holdings"
   ]
  },
  {
   "cell_type": "code",
   "execution_count": 5,
   "id": "cf8c35bb",
   "metadata": {},
   "outputs": [
    {
     "name": "stdout",
     "output_type": "stream",
     "text": [
      "5PAISA :: 553\n",
      "Portfolio Value after breaching 5DMA ::  446176 \n",
      "Portfolio Value after breaching 20DMA ::  433428 \n",
      "Current Porfolio Value :: 463862\n"
     ]
    }
   ],
   "source": [
    "# Function to fetch stock data and filter based on 20DMA\n",
    "def filter_stocks_to_sell(holdings):\n",
    "    portfolio_value_20DMA = 0\n",
    "    portfolio_value_5DMA = 0\n",
    "    portfolio_value = 0\n",
    "    buffer = 0.975\n",
    "    filtered_stocks = []\n",
    "    for index, row in holdings.iterrows():\n",
    "        try:\n",
    "            # Fetch stock data\n",
    "            symbol = row['tradingsymbol'].split('-')[0] \n",
    "            exchange = \".NS\" if row['exchange'] == \"NSE\" else \".BO\"\n",
    "            stock_data = yf.download(symbol + exchange, start=pd.to_datetime('today') - pd.DateOffset(50),\n",
    "                                      end=pd.to_datetime('today') + pd.DateOffset(1), progress=False)\n",
    "            \n",
    "            # Calculate 20DMA\n",
    "            stock_data['20DMA'] = stock_data['Close'].rolling(window=20).mean()\n",
    "            \n",
    "            #####\n",
    "            stock_data['20DMA'] = stock_data['Close'].rolling(window=20).mean()\n",
    "            stock_data['5DMA'] = stock_data['Close'].rolling(window=5).mean()\n",
    "            quantity = row['quantity'] + row['t1_quantity'] + row['collateral_quantity'] + row['used_quantity']\n",
    "            ltp = row['last_price']\n",
    "            dma_20 = quantity * stock_data['20DMA'].iloc[-1]\n",
    "            dma_5 = quantity * stock_data['5DMA'].iloc[-1]\n",
    "            \n",
    "            if math.isnan(dma_20):\n",
    "                dma_20 = ltp\n",
    "\n",
    "            portfolio_value_20DMA = portfolio_value_20DMA + (dma_20 * buffer)\n",
    "            portfolio_value_5DMA = portfolio_value_5DMA + (dma_5 * buffer)\n",
    "            portfolio_value = portfolio_value + (quantity * ltp)\n",
    "            \n",
    "            # print(f\"{symbol} :: {round(stock_data['20DMA'].iloc[-1])} :: {row['last_price']}\")\n",
    "            \n",
    "            # Check if current price is less than 5DMA\n",
    "            if row['last_price'] < (stock_data['5DMA'].iloc[-1] * buffer):\n",
    "                filtered_stocks.append(symbol)\n",
    "                print(f\"{symbol} :: {round(stock_data['5DMA'].iloc[-1])}\")\n",
    "        except Exception as e:\n",
    "            print(f\"Error fetching data for {symbol}: {e}\")\n",
    "            \n",
    "    print(f\"Portfolio Value after breaching 5DMA ::  {round(portfolio_value_5DMA)} \")\n",
    "    print(f\"Portfolio Value after breaching 20DMA ::  {round(portfolio_value_20DMA)} \")\n",
    "    print(f\"Current Porfolio Value :: {round(portfolio_value)}\")\n",
    "    return filtered_stocks\n",
    "\n",
    "# Filter stocks based on 20DMA\n",
    "stocks_to_sell = filter_stocks_to_sell(holdings)"
   ]
  },
  {
   "cell_type": "code",
   "execution_count": 6,
   "id": "da221a2e",
   "metadata": {},
   "outputs": [
    {
     "data": {
      "text/html": [
       "<div>\n",
       "<style scoped>\n",
       "    .dataframe tbody tr th:only-of-type {\n",
       "        vertical-align: middle;\n",
       "    }\n",
       "\n",
       "    .dataframe tbody tr th {\n",
       "        vertical-align: top;\n",
       "    }\n",
       "\n",
       "    .dataframe thead th {\n",
       "        text-align: right;\n",
       "    }\n",
       "</style>\n",
       "<table border=\"1\" class=\"dataframe\">\n",
       "  <thead>\n",
       "    <tr style=\"text-align: right;\">\n",
       "      <th></th>\n",
       "      <th>tradingsymbol</th>\n",
       "      <th>exchange</th>\n",
       "      <th>instrument_token</th>\n",
       "      <th>isin</th>\n",
       "      <th>product</th>\n",
       "      <th>price</th>\n",
       "      <th>quantity</th>\n",
       "      <th>used_quantity</th>\n",
       "      <th>t1_quantity</th>\n",
       "      <th>realised_quantity</th>\n",
       "      <th>...</th>\n",
       "      <th>short_quantity</th>\n",
       "      <th>collateral_quantity</th>\n",
       "      <th>collateral_type</th>\n",
       "      <th>discrepancy</th>\n",
       "      <th>average_price</th>\n",
       "      <th>last_price</th>\n",
       "      <th>close_price</th>\n",
       "      <th>pnl</th>\n",
       "      <th>day_change</th>\n",
       "      <th>day_change_percentage</th>\n",
       "    </tr>\n",
       "  </thead>\n",
       "  <tbody>\n",
       "    <tr>\n",
       "      <th>0</th>\n",
       "      <td>5PAISA</td>\n",
       "      <td>NSE</td>\n",
       "      <td>113921</td>\n",
       "      <td>INE618L01018</td>\n",
       "      <td>CNC</td>\n",
       "      <td>0</td>\n",
       "      <td>17</td>\n",
       "      <td>0</td>\n",
       "      <td>0</td>\n",
       "      <td>17</td>\n",
       "      <td>...</td>\n",
       "      <td>0</td>\n",
       "      <td>0</td>\n",
       "      <td></td>\n",
       "      <td>False</td>\n",
       "      <td>582.9</td>\n",
       "      <td>536.35</td>\n",
       "      <td>575.3</td>\n",
       "      <td>-791.35</td>\n",
       "      <td>-38.95</td>\n",
       "      <td>-6.770381</td>\n",
       "    </tr>\n",
       "  </tbody>\n",
       "</table>\n",
       "<p>1 rows × 24 columns</p>\n",
       "</div>"
      ],
      "text/plain": [
       "  tradingsymbol exchange  instrument_token          isin product  price  \\\n",
       "0        5PAISA      NSE            113921  INE618L01018     CNC      0   \n",
       "\n",
       "   quantity  used_quantity  t1_quantity  realised_quantity  ...  \\\n",
       "0        17              0            0                 17  ...   \n",
       "\n",
       "   short_quantity collateral_quantity collateral_type  discrepancy  \\\n",
       "0               0                   0                        False   \n",
       "\n",
       "   average_price  last_price close_price     pnl  day_change  \\\n",
       "0          582.9      536.35       575.3 -791.35      -38.95   \n",
       "\n",
       "   day_change_percentage  \n",
       "0              -6.770381  \n",
       "\n",
       "[1 rows x 24 columns]"
      ]
     },
     "execution_count": 6,
     "metadata": {},
     "output_type": "execute_result"
    }
   ],
   "source": [
    "# Stocks to sell\n",
    "stocks_to_sell = holdings[holdings['tradingsymbol'].isin(stocks_to_sell)]\n",
    "stocks_to_sell"
   ]
  },
  {
   "cell_type": "code",
   "execution_count": null,
   "id": "987bd751",
   "metadata": {},
   "outputs": [],
   "source": [
    "def execute_sell_order(stocks_to_sell):\n",
    "    for index, row in stocks_to_sell.iterrows():\n",
    "        if(row['quantity'] == 0):\n",
    "            print(f\"{row['tradingsymbol']} : Quantity 0 - Skipping\")\n",
    "            continue\n",
    "        try:\n",
    "            response = kite.place_order(\n",
    "                variety=kite.VARIETY_REGULAR,\n",
    "                exchange=row['exchange'],\n",
    "                tradingsymbol=row['tradingsymbol'],\n",
    "                transaction_type=kite.TRANSACTION_TYPE_SELL,\n",
    "                quantity=row['quantity'],\n",
    "                order_type=kite.ORDER_TYPE_MARKET,\n",
    "                product=kite.PRODUCT_CNC,\n",
    "                tag=\"BaliHedgeFund\"\n",
    "            )\n",
    "            # Print the response\n",
    "            print(\"Response:\", response)\n",
    "        except Exception as e:\n",
    "            print(f\"An error occurred while placing order for {row['tradingsymbol']}: {e}\")\n",
    "\n",
    "\n",
    "execute_sell_order(stocks_to_sell)"
   ]
  },
  {
   "cell_type": "code",
   "execution_count": null,
   "id": "7c7885af",
   "metadata": {},
   "outputs": [],
   "source": [
    "# Function to extract and store data from a page\n",
    "def extract_data(url, headers):\n",
    "    response = requests.get(url, headers=headers)\n",
    "    if response.ok:\n",
    "        soup = BeautifulSoup(response.text, 'html.parser')\n",
    "        table = soup.find('table', class_='data-table')\n",
    "        rows = table.find_all('tr')\n",
    "        data_list = []\n",
    "        for i, row in enumerate(rows[1:-1], start=1):  # Skipping header row\n",
    "            if i % 16 != 0:  # Skip every 15th row after the first 15 rows\n",
    "                cols = row.find_all('td')\n",
    "                symbol = str(cols[2].find('a')).split('/')[2]\n",
    "                data = [col.text.strip() for col in cols]\n",
    "                data.append(symbol)\n",
    "                data_list.append(data)\n",
    "        return data_list\n",
    "    return None\n",
    "\n",
    "# URL of the website\n",
    "base_url = 'https://www.screener.in/watchlist/5428524/'\n",
    "\n",
    "# Session ID and CSRF token obtained from somewhere (e.g., through authentication)\n",
    "session_id = 'gxja81spl0xn0hggiwu4g5kxmhnbv9mz'\n",
    "csrf_token = '8uCAl5uBfrOlzD295ykL6XYQ6BNEPwQU'\n",
    "\n",
    "# Construct headers with session ID and CSRF token\n",
    "headers = {\n",
    "    'Cookie': f'sessionid={session_id}',  # Assuming the session ID is passed via cookie\n",
    "    'X-CSRFToken': csrf_token  # Assuming the CSRF token is passed in a header\n",
    "}\n",
    "\n",
    "try:\n",
    "    data = extract_data(base_url, headers)\n",
    "    if data:\n",
    "        df = pd.DataFrame(data, columns=['S.No.', '', 'Name', 'Price', 'P/E', 'Cap', 'QtrSV', 'QtrPV', 'QoQS', 'QoQP', \n",
    "                                         'Prom.', 'DII', 'FII', 'ExpQV', 'RSI', 'MACD', 'PromC', 'SYMBOL'])\n",
    "        print(\"Data extracted successfully.\")\n",
    "    else:\n",
    "        print(\"No data found.\")\n",
    "except Exception as e:\n",
    "    print(f\"Failed to extract data. Error: {e}\")"
   ]
  },
  {
   "cell_type": "code",
   "execution_count": null,
   "id": "5f815bba",
   "metadata": {},
   "outputs": [],
   "source": [
    "# Function to fetch stock data and filter based on 20DMA\n",
    "def filter_stocks_to_buy(df):\n",
    "    lower_range = 1.01\n",
    "    upper_range = 1.05\n",
    "    filtered_stocks = []\n",
    "    for index, row in df.iterrows():\n",
    "        try:\n",
    "            # Fetch stock data\n",
    "            symbol = row['SYMBOL']\n",
    "            stock_data = yf.download(symbol + \".NS\", start=pd.to_datetime('today') - pd.DateOffset(50),\n",
    "                                      end=pd.to_datetime('today') + pd.DateOffset(1), progress=False)\n",
    "            \n",
    "            # Calculate 20DMA\n",
    "            stock_data['20DMA'] = stock_data['Close'].rolling(window=20).mean()\n",
    "            \n",
    "            # Check if current price is less than 20DMA\n",
    "            if (stock_data['Close'].iloc[-1] > (stock_data['20DMA'].iloc[-1] * lower_range)) and (stock_data['Close'].iloc[-1] < (stock_data['20DMA'].iloc[-1] * upper_range)) :\n",
    "                filtered_stocks.append((symbol, round(stock_data['Close'].iloc[-1])))\n",
    "                print(f\"{symbol} :: {round(stock_data['20DMA'].iloc[-1])}\")\n",
    "        except Exception as e:\n",
    "            print(f\"Error fetching data for {symbol}: {e}\")\n",
    "    return filtered_stocks\n",
    "\n",
    "# Filter stocks based on Greater than 20DMA\n",
    "stocks_to_buy = filter_stocks_to_buy(df)"
   ]
  },
  {
   "cell_type": "code",
   "execution_count": null,
   "id": "42dcd629",
   "metadata": {},
   "outputs": [],
   "source": [
    "stocks_to_buy"
   ]
  },
  {
   "cell_type": "code",
   "execution_count": null,
   "id": "7ea47ec0",
   "metadata": {},
   "outputs": [],
   "source": [
    "def execute_buy_order(stocks_to_buy):\n",
    "    for symbol in stocks_to_buy:\n",
    "        try:\n",
    "            response = kite.place_order(\n",
    "                variety=kite.VARIETY_REGULAR,\n",
    "                exchange=kite.EXCHANGE_NSE,\n",
    "                tradingsymbol=symbol[0],\n",
    "                transaction_type=kite.TRANSACTION_TYPE_BUY,\n",
    "                quantity=round(10000/symbol[1]),\n",
    "                order_type=kite.ORDER_TYPE_MARKET,\n",
    "                product=kite.PRODUCT_CNC,\n",
    "                tag=\"BaliHedgeFund\"\n",
    "            )\n",
    "            # Print the response\n",
    "            print(\"Response:\", response)\n",
    "        except Exception as e:\n",
    "            print(f\"An error occurred while placing order for {symbol[0]}: {e}\")\n",
    "\n",
    "\n",
    "execute_buy_order(stocks_to_buy)"
   ]
  },
  {
   "cell_type": "markdown",
   "id": "7b3a5ced",
   "metadata": {},
   "source": [
    "## FnO Positions Sell Strategy"
   ]
  },
  {
   "cell_type": "code",
   "execution_count": null,
   "id": "1fe231a0",
   "metadata": {},
   "outputs": [],
   "source": [
    "positions = pd.DataFrame(kite.positions().get('net'))\n",
    "fno_positions = positions[positions['exchange'] == kite.EXCHANGE_NFO]"
   ]
  },
  {
   "cell_type": "code",
   "execution_count": null,
   "id": "7c5d9048",
   "metadata": {},
   "outputs": [],
   "source": [
    "fno_positions"
   ]
  },
  {
   "cell_type": "code",
   "execution_count": null,
   "id": "31bd5e5d",
   "metadata": {},
   "outputs": [],
   "source": [
    "# Function to fetch stock data and filter based on 20DMA\n",
    "def filter_fno_to_sell(fno_positions):\n",
    "    buffer = 1.01\n",
    "    stock_data_list = []\n",
    "    for index, row in fno_positions.iterrows():\n",
    "        try:\n",
    "            # Fetch stock data\n",
    "            symbol = row['tradingsymbol'][:-8]\n",
    "            exchange = \".NS\" if row['exchange'] == \"NFO\" else \".BO\"\n",
    "            stock_data = yf.download(symbol + exchange, start=pd.to_datetime('today') - pd.DateOffset(50),\n",
    "                                      end=pd.to_datetime('today') + pd.DateOffset(1), progress=False)\n",
    "            \n",
    "            # Calculate 5DMA\n",
    "            stock_data['5DMA'] = stock_data['Close'].rolling(window=5).mean()\n",
    "            \n",
    "            print(f\"{symbol} :: {round(stock_data['5DMA'].iloc[-1] * buffer)} :: {row['last_price']}\")\n",
    "            \n",
    "            stock_info = {\n",
    "                'SYMBOL': row['tradingsymbol'],\n",
    "                'BUY_PRICE': row['average_price'],\n",
    "                'LTP': row['last_price'],\n",
    "                'QUANTITY': row['quantity'],\n",
    "                '5DMA': round(stock_data['5DMA'].iloc[-1] * buffer)\n",
    "            }\n",
    "            \n",
    "            # Add dictionary to the list\n",
    "            stock_data_list.append(stock_info)\n",
    "        except Exception as e:\n",
    "            print(f\"Error fetching data for {symbol}: {e}\")\n",
    "    stock_data_df = pd.DataFrame(stock_data_list)\n",
    "    return stock_data_df\n",
    "\n",
    "# Filter stocks based on 5DMA\n",
    "fno_positions_to_sell = filter_fno_to_sell(fno_positions)"
   ]
  },
  {
   "cell_type": "code",
   "execution_count": null,
   "id": "8daec4ab",
   "metadata": {},
   "outputs": [],
   "source": [
    "for index, row in fno_positions_to_sell.iterrows():\n",
    "    if row['LTP'] < row['BUY_PRICE']:\n",
    "        fno_positions_to_sell.loc[index, 'EXPOSURE'] = (row['BUY_PRICE'] * 0.02) * row['QUANTITY']\n",
    "    elif row['5DMA'] < row['BUY_PRICE']:\n",
    "        fno_positions_to_sell.loc[index, 'EXPOSURE'] = (2 * row['BUY_PRICE'] - row['LTP']) * 0.02  * row['QUANTITY']\n",
    "    else:\n",
    "        fno_positions_to_sell.loc[index, 'EXPOSURE'] = 0"
   ]
  },
  {
   "cell_type": "code",
   "execution_count": null,
   "id": "9a40a772",
   "metadata": {},
   "outputs": [],
   "source": [
    "account_value = 1900000\n",
    "percent_exposure = (fno_positions_to_sell['EXPOSURE'].sum() / account_value) * 100\n",
    "round(percent_exposure,2)"
   ]
  },
  {
   "cell_type": "code",
   "execution_count": null,
   "id": "92e57b0e",
   "metadata": {},
   "outputs": [],
   "source": [
    "fno_positions_to_sell"
   ]
  },
  {
   "cell_type": "markdown",
   "id": "46291144",
   "metadata": {},
   "source": [
    "## PORTFOLIO VALUE"
   ]
  },
  {
   "cell_type": "code",
   "execution_count": 4,
   "id": "f3b8bccf",
   "metadata": {},
   "outputs": [
    {
     "ename": "HTTPError",
     "evalue": "400 Client Error: Bad Request for url: https://api.kite.trade/portfolio/holdings",
     "output_type": "error",
     "traceback": [
      "\u001b[0;31m---------------------------------------------------------------------------\u001b[0m",
      "\u001b[0;31mHTTPError\u001b[0m                                 Traceback (most recent call last)",
      "Cell \u001b[0;32mIn[4], line 17\u001b[0m\n\u001b[1;32m     14\u001b[0m name \u001b[38;5;241m=\u001b[39m pair[\u001b[38;5;241m1\u001b[39m]\n\u001b[1;32m     16\u001b[0m \u001b[38;5;66;03m# Holding Value\u001b[39;00m\n\u001b[0;32m---> 17\u001b[0m holdings \u001b[38;5;241m=\u001b[39m pd\u001b[38;5;241m.\u001b[39mDataFrame(kite\u001b[38;5;241m.\u001b[39mholdings())\n\u001b[1;32m     18\u001b[0m holdings[\u001b[38;5;124m'\u001b[39m\u001b[38;5;124mtotal_quantity\u001b[39m\u001b[38;5;124m'\u001b[39m] \u001b[38;5;241m=\u001b[39m holdings[\u001b[38;5;124m'\u001b[39m\u001b[38;5;124mquantity\u001b[39m\u001b[38;5;124m'\u001b[39m] \u001b[38;5;241m+\u001b[39m holdings[\u001b[38;5;124m'\u001b[39m\u001b[38;5;124mt1_quantity\u001b[39m\u001b[38;5;124m'\u001b[39m] \u001b[38;5;241m+\u001b[39m holdings[\u001b[38;5;124m'\u001b[39m\u001b[38;5;124mcollateral_quantity\u001b[39m\u001b[38;5;124m'\u001b[39m]\n\u001b[1;32m     19\u001b[0m holding_value \u001b[38;5;241m=\u001b[39m (holdings[\u001b[38;5;124m'\u001b[39m\u001b[38;5;124mtotal_quantity\u001b[39m\u001b[38;5;124m'\u001b[39m] \u001b[38;5;241m*\u001b[39m holdings[\u001b[38;5;124m'\u001b[39m\u001b[38;5;124mlast_price\u001b[39m\u001b[38;5;124m'\u001b[39m])\u001b[38;5;241m.\u001b[39msum()\n",
      "File \u001b[0;32m~/Imperial/Stock Research/Shortlisted/BuySellStrategy/kite_trade.py:107\u001b[0m, in \u001b[0;36mKiteAPI.holdings\u001b[0;34m(self)\u001b[0m\n\u001b[1;32m    106\u001b[0m \u001b[38;5;28;01mdef\u001b[39;00m \u001b[38;5;21mholdings\u001b[39m(\u001b[38;5;28mself\u001b[39m):\n\u001b[0;32m--> 107\u001b[0m     response \u001b[38;5;241m=\u001b[39m \u001b[38;5;28mself\u001b[39m\u001b[38;5;241m.\u001b[39m_make_request(\u001b[38;5;124m\"\u001b[39m\u001b[38;5;124mGET\u001b[39m\u001b[38;5;124m\"\u001b[39m, \u001b[38;5;124m\"\u001b[39m\u001b[38;5;124m/portfolio/holdings\u001b[39m\u001b[38;5;124m\"\u001b[39m)\n\u001b[1;32m    108\u001b[0m     \u001b[38;5;28;01mreturn\u001b[39;00m response[\u001b[38;5;124m\"\u001b[39m\u001b[38;5;124mdata\u001b[39m\u001b[38;5;124m\"\u001b[39m]\n",
      "File \u001b[0;32m~/Imperial/Stock Research/Shortlisted/BuySellStrategy/kite_trade.py:47\u001b[0m, in \u001b[0;36mKiteAPI._make_request\u001b[0;34m(self, method, endpoint, params, data)\u001b[0m\n\u001b[1;32m     45\u001b[0m url \u001b[38;5;241m=\u001b[39m \u001b[38;5;124mf\u001b[39m\u001b[38;5;124m\"\u001b[39m\u001b[38;5;132;01m{\u001b[39;00m\u001b[38;5;28mself\u001b[39m\u001b[38;5;241m.\u001b[39mroot_url\u001b[38;5;132;01m}\u001b[39;00m\u001b[38;5;132;01m{\u001b[39;00mendpoint\u001b[38;5;132;01m}\u001b[39;00m\u001b[38;5;124m\"\u001b[39m\n\u001b[1;32m     46\u001b[0m response \u001b[38;5;241m=\u001b[39m \u001b[38;5;28mself\u001b[39m\u001b[38;5;241m.\u001b[39msession\u001b[38;5;241m.\u001b[39mrequest(method, url, params\u001b[38;5;241m=\u001b[39mparams, data\u001b[38;5;241m=\u001b[39mdata, headers\u001b[38;5;241m=\u001b[39m\u001b[38;5;28mself\u001b[39m\u001b[38;5;241m.\u001b[39mheaders)\n\u001b[0;32m---> 47\u001b[0m response\u001b[38;5;241m.\u001b[39mraise_for_status()\n\u001b[1;32m     48\u001b[0m \u001b[38;5;28;01mreturn\u001b[39;00m response\u001b[38;5;241m.\u001b[39mjson()\n",
      "File \u001b[0;32m~/anaconda3/lib/python3.11/site-packages/requests/models.py:1021\u001b[0m, in \u001b[0;36mResponse.raise_for_status\u001b[0;34m(self)\u001b[0m\n\u001b[1;32m   1016\u001b[0m     http_error_msg \u001b[38;5;241m=\u001b[39m (\n\u001b[1;32m   1017\u001b[0m         \u001b[38;5;124mf\u001b[39m\u001b[38;5;124m\"\u001b[39m\u001b[38;5;132;01m{\u001b[39;00m\u001b[38;5;28mself\u001b[39m\u001b[38;5;241m.\u001b[39mstatus_code\u001b[38;5;132;01m}\u001b[39;00m\u001b[38;5;124m Server Error: \u001b[39m\u001b[38;5;132;01m{\u001b[39;00mreason\u001b[38;5;132;01m}\u001b[39;00m\u001b[38;5;124m for url: \u001b[39m\u001b[38;5;132;01m{\u001b[39;00m\u001b[38;5;28mself\u001b[39m\u001b[38;5;241m.\u001b[39murl\u001b[38;5;132;01m}\u001b[39;00m\u001b[38;5;124m\"\u001b[39m\n\u001b[1;32m   1018\u001b[0m     )\n\u001b[1;32m   1020\u001b[0m \u001b[38;5;28;01mif\u001b[39;00m http_error_msg:\n\u001b[0;32m-> 1021\u001b[0m     \u001b[38;5;28;01mraise\u001b[39;00m HTTPError(http_error_msg, response\u001b[38;5;241m=\u001b[39m\u001b[38;5;28mself\u001b[39m)\n",
      "\u001b[0;31mHTTPError\u001b[0m: 400 Client Error: Bad Request for url: https://api.kite.trade/portfolio/holdings"
     ]
    }
   ],
   "source": [
    "combined_portfolio_value = 0\n",
    "#pairs = [(kiteAvva, 'Avva'), (kiteIshwar, 'Ishwar'), (kiteRakesh, 'Rakesh')]\n",
    "pairs = [(kiteAvva, 'Avva')]\n",
    "#pairs = [(kiteAvva, 'Avva'), (kiteIshwar, 'Ishwar')]\n",
    "for pair in pairs:\n",
    "    net_cash = 0\n",
    "    cash_used = 0\n",
    "    positions_value = 0\n",
    "    holding_value = 0\n",
    "    positions_value_sell = 0\n",
    "    positions_value_buy = 0\n",
    "    \n",
    "    kite = pair[0]\n",
    "    name = pair[1]\n",
    "    \n",
    "    # Holding Value\n",
    "    holdings = pd.DataFrame(kite.holdings())\n",
    "    holdings['total_quantity'] = holdings['quantity'] + holdings['t1_quantity'] + holdings['collateral_quantity']\n",
    "    holding_value = (holdings['total_quantity'] * holdings['last_price']).sum()\n",
    "    print(f'Holding Value :: {round(holding_value)}')\n",
    "    \n",
    "    # Position Value\n",
    "    positions = pd.DataFrame(kite.positions().get('net'))\n",
    "    if not positions.empty:\n",
    "        positions = positions[positions['exchange'].isin([kite.EXCHANGE_NSE, kite.EXCHANGE_BSE])]\n",
    "        positions_value_sell = (positions['average_price'] * positions['sell_quantity']).sum() \n",
    "        positions_value_buy = (positions['last_price'] * positions['buy_quantity']).sum()\n",
    "        positions_value = positions_value_sell + positions_value_buy\n",
    "        print(f'Position Value :: {round(positions_value)}')\n",
    "    \n",
    "    # Remaining Cash\n",
    "    margins = pd.DataFrame(kite.margins().get('equity'))\n",
    "    opening_cash = margins.loc['cash']['available']\n",
    "    cash_used = positions_value_buy\n",
    "    net_cash = opening_cash - cash_used\n",
    "    print(f'Cash Value :: {round(net_cash)}')\n",
    "    \n",
    "    # Total Portfolio Value\n",
    "    total_portfolio_value = round(holding_value + positions_value + net_cash)\n",
    "    print(f'Total Portfolio Value {name} ::  {total_portfolio_value}')\n",
    "    print(\"\\n\")\n",
    "    \n",
    "    combined_portfolio_value = combined_portfolio_value + total_portfolio_value\n",
    "\n",
    "print(f'Combined Portfolio Value ::  {combined_portfolio_value}')"
   ]
  },
  {
   "cell_type": "code",
   "execution_count": null,
   "id": "2777a494",
   "metadata": {},
   "outputs": [],
   "source": []
  },
  {
   "cell_type": "code",
   "execution_count": null,
   "id": "b126655e",
   "metadata": {},
   "outputs": [],
   "source": []
  },
  {
   "cell_type": "code",
   "execution_count": 12,
   "id": "77950ea0",
   "metadata": {},
   "outputs": [],
   "source": [
    "weekly_trades = ['MCDOWELL-N', 'ONGC', 'POWERGRID','TORNTPHARM', 'GAIL', 'PETRONET', 'BIOCON', 'CHAMBLFERT',\n",
    "               'HAVELLS', 'CONCOR', 'NMDC', 'TATAPOWER', 'BEL', 'HAL','SUPREMEIND']"
   ]
  },
  {
   "cell_type": "code",
   "execution_count": 13,
   "id": "108961db",
   "metadata": {},
   "outputs": [],
   "source": [
    "kite = kiteAvva\n",
    "holdings = pd.DataFrame(kite.holdings())\n",
    "weekly_trades = holdings[holdings['tradingsymbol'].isin(weekly_trades)][['tradingsymbol', 'pnl']]"
   ]
  },
  {
   "cell_type": "code",
   "execution_count": 14,
   "id": "fbd07d44",
   "metadata": {},
   "outputs": [
    {
     "data": {
      "text/html": [
       "<div>\n",
       "<style scoped>\n",
       "    .dataframe tbody tr th:only-of-type {\n",
       "        vertical-align: middle;\n",
       "    }\n",
       "\n",
       "    .dataframe tbody tr th {\n",
       "        vertical-align: top;\n",
       "    }\n",
       "\n",
       "    .dataframe thead th {\n",
       "        text-align: right;\n",
       "    }\n",
       "</style>\n",
       "<table border=\"1\" class=\"dataframe\">\n",
       "  <thead>\n",
       "    <tr style=\"text-align: right;\">\n",
       "      <th></th>\n",
       "      <th>tradingsymbol</th>\n",
       "      <th>pnl</th>\n",
       "    </tr>\n",
       "  </thead>\n",
       "  <tbody>\n",
       "    <tr>\n",
       "      <th>1</th>\n",
       "      <td>BEL</td>\n",
       "      <td>-1279.200000</td>\n",
       "    </tr>\n",
       "    <tr>\n",
       "      <th>2</th>\n",
       "      <td>BIOCON</td>\n",
       "      <td>-23.899964</td>\n",
       "    </tr>\n",
       "    <tr>\n",
       "      <th>4</th>\n",
       "      <td>CHAMBLFERT</td>\n",
       "      <td>-2386.800000</td>\n",
       "    </tr>\n",
       "    <tr>\n",
       "      <th>5</th>\n",
       "      <td>CONCOR</td>\n",
       "      <td>-190.350000</td>\n",
       "    </tr>\n",
       "    <tr>\n",
       "      <th>9</th>\n",
       "      <td>HAVELLS</td>\n",
       "      <td>619.500000</td>\n",
       "    </tr>\n",
       "    <tr>\n",
       "      <th>12</th>\n",
       "      <td>MCDOWELL-N</td>\n",
       "      <td>-643.700000</td>\n",
       "    </tr>\n",
       "    <tr>\n",
       "      <th>13</th>\n",
       "      <td>NMDC</td>\n",
       "      <td>1930.300000</td>\n",
       "    </tr>\n",
       "    <tr>\n",
       "      <th>14</th>\n",
       "      <td>ONGC</td>\n",
       "      <td>545.600000</td>\n",
       "    </tr>\n",
       "    <tr>\n",
       "      <th>15</th>\n",
       "      <td>PETRONET</td>\n",
       "      <td>1336.500000</td>\n",
       "    </tr>\n",
       "    <tr>\n",
       "      <th>20</th>\n",
       "      <td>SUPREMEIND</td>\n",
       "      <td>1500.000000</td>\n",
       "    </tr>\n",
       "    <tr>\n",
       "      <th>21</th>\n",
       "      <td>TATAPOWER</td>\n",
       "      <td>1903.800000</td>\n",
       "    </tr>\n",
       "  </tbody>\n",
       "</table>\n",
       "</div>"
      ],
      "text/plain": [
       "   tradingsymbol          pnl\n",
       "1            BEL -1279.200000\n",
       "2         BIOCON   -23.899964\n",
       "4     CHAMBLFERT -2386.800000\n",
       "5         CONCOR  -190.350000\n",
       "9        HAVELLS   619.500000\n",
       "12    MCDOWELL-N  -643.700000\n",
       "13          NMDC  1930.300000\n",
       "14          ONGC   545.600000\n",
       "15      PETRONET  1336.500000\n",
       "20    SUPREMEIND  1500.000000\n",
       "21     TATAPOWER  1903.800000"
      ]
     },
     "execution_count": 14,
     "metadata": {},
     "output_type": "execute_result"
    }
   ],
   "source": [
    "weekly_trades"
   ]
  },
  {
   "cell_type": "code",
   "execution_count": 15,
   "id": "17b62c0e",
   "metadata": {},
   "outputs": [
    {
     "data": {
      "text/plain": [
       "3311.7500359999995"
      ]
     },
     "execution_count": 15,
     "metadata": {},
     "output_type": "execute_result"
    }
   ],
   "source": [
    "weekly_trades['pnl'].sum()"
   ]
  },
  {
   "cell_type": "code",
   "execution_count": null,
   "id": "bbcf9048",
   "metadata": {},
   "outputs": [],
   "source": []
  }
 ],
 "metadata": {
  "kernelspec": {
   "display_name": "Python 3 (ipykernel)",
   "language": "python",
   "name": "python3"
  },
  "language_info": {
   "codemirror_mode": {
    "name": "ipython",
    "version": 3
   },
   "file_extension": ".py",
   "mimetype": "text/x-python",
   "name": "python",
   "nbconvert_exporter": "python",
   "pygments_lexer": "ipython3",
   "version": "3.11.5"
  }
 },
 "nbformat": 4,
 "nbformat_minor": 5
}
