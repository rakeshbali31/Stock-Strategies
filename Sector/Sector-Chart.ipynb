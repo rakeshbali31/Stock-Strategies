{
 "cells": [
  {
   "cell_type": "code",
   "id": "76ace350",
   "metadata": {
    "ExecuteTime": {
     "end_time": "2025-05-06T13:13:16.629170Z",
     "start_time": "2025-05-06T13:13:16.626480Z"
    }
   },
   "source": [
    "from nsepython import *\n",
    "import pandas as pd\n",
    "import yfinance as yf\n",
    "import numpy as np\n",
    "\n",
    "import plotly.graph_objects as go\n",
    "from plotly.subplots import make_subplots"
   ],
   "outputs": [],
   "execution_count": 4
  },
  {
   "cell_type": "code",
   "id": "48f0d187",
   "metadata": {
    "ExecuteTime": {
     "end_time": "2025-05-06T13:13:16.633556Z",
     "start_time": "2025-05-06T13:13:16.631173Z"
    }
   },
   "source": [
    "indices = ['^NSEI', 'NIFTY_MIDCAP_100.NS',  'SMALLCAP.NS', 'GOLDETF.NS', 'HDFCMOMENT.NS',         \n",
    "           '^NSEBANK', 'NIFTY_PVT_BANK.NS', '^CNXPSUBANK', '^CNXIT', '^CNXMETAL', 'PHARMABEES.NS', '^CNXAUTO', '^CNXFMCG', '^CNXENERGY', '^CNXREALTY', '^CNXCONSUM', '^CNXMNC', '^CNXMEDIA']"
   ],
   "outputs": [],
   "execution_count": 5
  },
  {
   "cell_type": "code",
   "id": "6fb767bb",
   "metadata": {
    "ExecuteTime": {
     "end_time": "2025-05-06T13:13:45.201951Z",
     "start_time": "2025-05-06T13:13:16.636367Z"
    }
   },
   "source": [
    "def download_stock_data(symbol):\n",
    "    data = yf.download(symbol, start=pd.to_datetime('today') - pd.DateOffset(365),\n",
    "                       end=pd.to_datetime('today') + pd.DateOffset(1), progress=False)\n",
    "    data.columns = [col[0] for col in data.columns]\n",
    "    return data\n",
    "\n",
    "def calculate_technical_indicators(data):\n",
    "    data['5DMA'] = data['Close'].rolling(window=5).mean()\n",
    "    data['20DMA'] = data['Close'].rolling(window=20).mean()\n",
    "    data['50DMA'] = data['Close'].rolling(window=50).mean()\n",
    "    data['100DMA'] = data['Close'].rolling(window=100).mean()\n",
    "    data['diff'] = data['Close'] - data['Open']\n",
    "    data['color'] = data['diff'].apply(lambda x: 'green' if x >= 0 else 'red')\n",
    "    return data\n",
    "\n",
    "def plot_stock_data(symbol, data):\n",
    "    # Prepare plot data\n",
    "    plot_data = data[data.index > (pd.to_datetime('today') - pd.DateOffset(days=240))]\n",
    "    # plot_data = data\n",
    "\n",
    "    # Setup subplot layout\n",
    "    figure = make_subplots(rows=1, cols=1)\n",
    "\n",
    "    # Plot candlestick chart\n",
    "    figure.add_trace(go.Candlestick(x=plot_data.index,\n",
    "                                    open=plot_data['Open'],\n",
    "                                    high=plot_data['High'],\n",
    "                                    low=plot_data['Low'],\n",
    "                                    close=plot_data['Close'],\n",
    "                                    name='Price'))\n",
    "\n",
    "    # Plot moving averages and volume\n",
    "    for ma, color in zip(['5DMA', '20DMA', '50DMA', '100DMA'], ['yellow', 'blue', 'orange', 'green']):\n",
    "        figure.add_trace(go.Scatter(x=plot_data.index, y=plot_data[ma], marker_color=color, name=f'{ma}'))\n",
    "\n",
    "    # Adjust Y-axis and layout for stock prices\n",
    "    figure.update_yaxes(range=[plot_data['Close'].min()*0.9, plot_data['Close'].max()*1.05])\n",
    "    figure.update_xaxes(rangebreaks=[dict(bounds=['sat', 'mon'])])  # hide weekends\n",
    "    figure.update_layout(title={'text': symbol, 'x': 0.5}, xaxis_rangeslider_visible=False)\n",
    "\n",
    "    return figure\n",
    "\n",
    "def process_stocks(all_symbols):\n",
    "    figure_html = open('sectors.html', 'w')\n",
    "    for symbol in all_symbols:\n",
    "        try:\n",
    "            data = download_stock_data(symbol)\n",
    "            if not data.empty:\n",
    "                data = calculate_technical_indicators(data)\n",
    "                figure = plot_stock_data(symbol, data)\n",
    "                figure_html.write(figure.to_html(full_html=False))\n",
    "        except Exception as e:\n",
    "            print(f\"Error processing symbol {symbol}: {e.args}\")\n",
    "\n",
    "if __name__ == \"__main__\":\n",
    "    symbols = indices\n",
    "    process_stocks(symbols)\n",
    "    print('Execution Completed!!!!')"
   ],
   "outputs": [
    {
     "name": "stderr",
     "output_type": "stream",
     "text": [
      "\n",
      "1 Failed download:\n",
      "['^NSEI']: YFRateLimitError('Too Many Requests. Rate limited. Try after a while.')\n",
      "\n",
      "1 Failed download:\n",
      "['NIFTY_MIDCAP_100.NS']: YFRateLimitError('Too Many Requests. Rate limited. Try after a while.')\n",
      "\n",
      "1 Failed download:\n",
      "['SMALLCAP.NS']: YFRateLimitError('Too Many Requests. Rate limited. Try after a while.')\n",
      "\n",
      "1 Failed download:\n",
      "['GOLDETF.NS']: YFRateLimitError('Too Many Requests. Rate limited. Try after a while.')\n",
      "\n",
      "1 Failed download:\n",
      "['HDFCMOMENT.NS']: YFRateLimitError('Too Many Requests. Rate limited. Try after a while.')\n",
      "\n",
      "1 Failed download:\n",
      "['^NSEBANK']: YFRateLimitError('Too Many Requests. Rate limited. Try after a while.')\n",
      "\n",
      "1 Failed download:\n",
      "['NIFTY_PVT_BANK.NS']: YFRateLimitError('Too Many Requests. Rate limited. Try after a while.')\n",
      "\n",
      "1 Failed download:\n",
      "['^CNXPSUBANK']: YFRateLimitError('Too Many Requests. Rate limited. Try after a while.')\n",
      "\n",
      "1 Failed download:\n",
      "['^CNXIT']: YFRateLimitError('Too Many Requests. Rate limited. Try after a while.')\n",
      "\n",
      "1 Failed download:\n",
      "['^CNXMETAL']: YFRateLimitError('Too Many Requests. Rate limited. Try after a while.')\n",
      "\n",
      "1 Failed download:\n",
      "['PHARMABEES.NS']: YFRateLimitError('Too Many Requests. Rate limited. Try after a while.')\n",
      "\n",
      "1 Failed download:\n",
      "['^CNXAUTO']: YFRateLimitError('Too Many Requests. Rate limited. Try after a while.')\n",
      "\n",
      "1 Failed download:\n",
      "['^CNXFMCG']: YFRateLimitError('Too Many Requests. Rate limited. Try after a while.')\n",
      "\n",
      "1 Failed download:\n",
      "['^CNXENERGY']: YFRateLimitError('Too Many Requests. Rate limited. Try after a while.')\n",
      "\n",
      "1 Failed download:\n",
      "['^CNXREALTY']: YFRateLimitError('Too Many Requests. Rate limited. Try after a while.')\n",
      "\n",
      "1 Failed download:\n",
      "['^CNXCONSUM']: YFRateLimitError('Too Many Requests. Rate limited. Try after a while.')\n",
      "\n",
      "1 Failed download:\n",
      "['^CNXMNC']: YFRateLimitError('Too Many Requests. Rate limited. Try after a while.')\n",
      "\n",
      "1 Failed download:\n",
      "['^CNXMEDIA']: YFRateLimitError('Too Many Requests. Rate limited. Try after a while.')\n"
     ]
    },
    {
     "name": "stdout",
     "output_type": "stream",
     "text": [
      "Execution Completed!!!!\n"
     ]
    }
   ],
   "execution_count": 6
  },
  {
   "metadata": {
    "ExecuteTime": {
     "end_time": "2025-05-06T13:13:45.206350Z",
     "start_time": "2025-05-06T13:13:45.203799Z"
    }
   },
   "cell_type": "code",
   "source": "",
   "id": "b065d23da8f4a708",
   "outputs": [],
   "execution_count": 6
  },
  {
   "metadata": {
    "ExecuteTime": {
     "end_time": "2025-05-06T13:13:45.212187Z",
     "start_time": "2025-05-06T13:13:45.209120Z"
    }
   },
   "cell_type": "code",
   "source": "",
   "id": "2cbedf7b00a9aa1f",
   "outputs": [],
   "execution_count": 6
  }
 ],
 "metadata": {
  "kernelspec": {
   "display_name": "Python 3 (ipykernel)",
   "language": "python",
   "name": "python3"
  },
  "language_info": {
   "codemirror_mode": {
    "name": "ipython",
    "version": 3
   },
   "file_extension": ".py",
   "mimetype": "text/x-python",
   "name": "python",
   "nbconvert_exporter": "python",
   "pygments_lexer": "ipython3",
   "version": "3.11.5"
  }
 },
 "nbformat": 4,
 "nbformat_minor": 5
}
