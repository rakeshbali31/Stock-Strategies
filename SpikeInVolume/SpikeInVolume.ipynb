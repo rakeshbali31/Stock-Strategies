{
 "cells": [
  {
   "cell_type": "code",
   "id": "38e34549",
   "metadata": {
    "ExecuteTime": {
     "end_time": "2025-04-01T17:04:13.639338Z",
     "start_time": "2025-04-01T17:04:13.549617Z"
    }
   },
   "source": [
    "import pandas as pd\n",
    "import yfinance as yf\n",
    "import numpy as np\n",
    "from scipy.stats import iqr\n",
    "# from nsepython import *\n",
    "\n",
    "import seaborn as sns\n",
    "import matplotlib.pyplot as plt\n",
    "\n",
    "import plotly.graph_objects as go\n",
    "from plotly.subplots import make_subplots"
   ],
   "execution_count": 1,
   "outputs": []
  },
  {
   "cell_type": "code",
   "id": "7a360386",
   "metadata": {
    "ExecuteTime": {
     "end_time": "2025-04-01T17:04:13.641583Z",
     "start_time": "2025-04-01T17:04:13.640111Z"
    }
   },
   "source": [
    "# from bsedata.bse import BSE\n",
    "# b = BSE(update_codes = True)\n",
    "# data = b.getScripCodes()"
   ],
   "execution_count": 2,
   "outputs": []
  },
  {
   "cell_type": "code",
   "id": "1d853709",
   "metadata": {
    "ExecuteTime": {
     "end_time": "2025-04-01T17:04:13.643458Z",
     "start_time": "2025-04-01T17:04:13.642057Z"
    }
   },
   "source": [
    "# # Initialize an empty list to store data\n",
    "# rows = []\n",
    "\n",
    "# # Assuming b is an object with a method getQuote() to retrieve information for a given code\n",
    "# for code, company in data.items():\n",
    "#     try:\n",
    "#         q = b.getQuote(code)\n",
    "#         row = {'Code': code,\n",
    "#                'Company': company,\n",
    "#                'SecurityID': q.get('securityID', None),\n",
    "#                'MarketCapFull': q.get('marketCapFull', None),\n",
    "#                'MarketCapFreeFloat': q.get('marketCapFreeFloat', None),\n",
    "#                'Industry': q.get('industry', None)}\n",
    "#         rows.append(row)\n",
    "#     except Exception as e:\n",
    "#         print(f\"Error fetching data for code {code}: {e}\")\n",
    "\n",
    "# # Convert the list of dictionaries to a DataFrame\n",
    "# df = pd.DataFrame(rows)\n",
    "# df.to_csv('stock_data.csv')"
   ],
   "execution_count": 3,
   "outputs": []
  },
  {
   "cell_type": "code",
   "id": "24f0dcbe",
   "metadata": {
    "ExecuteTime": {
     "end_time": "2025-04-01T17:04:13.704053Z",
     "start_time": "2025-04-01T17:04:13.644436Z"
    }
   },
   "source": [
    "df = pd.read_csv('stock_data.csv')\n",
    "df.set_index('Code', inplace=True)\n",
    "df['MarketCapFull'] = pd.to_numeric(df['MarketCapFull'].str.replace(',', '').str.replace(' Cr.', ''), errors='coerce')\n",
    "df = df[df['MarketCapFull'] > 200]"
   ],
   "execution_count": 4,
   "outputs": []
  },
  {
   "cell_type": "code",
   "id": "813e786e",
   "metadata": {
    "ExecuteTime": {
     "end_time": "2025-04-01T17:04:27.944915Z",
     "start_time": "2025-04-01T17:04:13.704508Z"
    }
   },
   "source": [
    "%%capture\n",
    "\n",
    "high_volume_stocks = pd.DataFrame({'SYMBOL': [], 'FIRST_HIGH_VOLUME': [], \n",
    "                                    'LAST_HIGH_VOLUME': [], 'HIGH_VOL_COUNT': [],\n",
    "                                    'MARKET_CAP':[], 'INDUSTRY': [], 'DOWN':[]})\n",
    "\n",
    "for index, row in df.iterrows():\n",
    "    try:\n",
    "        stock = yf.download(row['SecurityID'] + \".BO\", start=(pd.to_datetime('today') - pd.DateOffset(days=180)), end=(pd.to_datetime('today') + pd.DateOffset(days=1)), progress=False)\n",
    "        stock.columns = [col[0] for col in stock.columns]\n",
    "        iqr_stock = iqr(stock['Volume'])\n",
    "        volume_cutoff = np.quantile(stock['Volume'], 0.75) + 5 * iqr_stock ## To find Outliers\n",
    "        high_volume_stock = stock[stock['Volume'] > volume_cutoff]\n",
    "        down_from_high = round((stock['Close'][-1] / stock['Close'].max())*100, 1)\n",
    "        \n",
    "        # convert this data into a row\n",
    "        if(high_volume_stock.size > 0):\n",
    "            new_stock = pd.DataFrame({'SYMBOL': [row['SecurityID']], \n",
    "                                      'FIRST_HIGH_VOLUME': [high_volume_stock.index[0]], \n",
    "                                      'LAST_HIGH_VOLUME': [high_volume_stock.index[high_volume_stock.shape[0]-1]], \n",
    "                                      'HIGH_VOL_COUNT': [high_volume_stock.shape[0]],\n",
    "                                      'MARKET_CAP':[row['MarketCapFull']],\n",
    "                                      'INDUSTRY':[row['Industry']],\n",
    "                                      'DOWN':down_from_high})\n",
    "            high_volume_stocks = pd.concat([high_volume_stocks, new_stock], ignore_index=True)\n",
    "    except Exception as e:\n",
    "        print(f\"Error processing data for symbol {row['SecurityID']}: {e}\")\n",
    "\n",
    "print(f\"Execution completed with {high_volume_stocks.shape[0]} stocks\")"
   ],
   "execution_count": 5,
   "outputs": []
  },
  {
   "cell_type": "code",
   "id": "470f3e6a",
   "metadata": {
    "ExecuteTime": {
     "end_time": "2025-04-01T17:04:27.947792Z",
     "start_time": "2025-04-01T17:04:27.945672Z"
    }
   },
   "source": "high_volume_stocks_recent = high_volume_stocks[high_volume_stocks['LAST_HIGH_VOLUME'] > (pd.to_datetime('today') - pd.DateOffset(days=10))]",
   "execution_count": 6,
   "outputs": []
  },
  {
   "cell_type": "code",
   "id": "05152186",
   "metadata": {
    "ExecuteTime": {
     "end_time": "2025-04-01T17:04:27.950235Z",
     "start_time": "2025-04-01T17:04:27.948343Z"
    }
   },
   "source": [
    "# DOWN FILTER\n",
    "high_volume_stocks_recent = high_volume_stocks_recent[high_volume_stocks_recent['DOWN'] >= 70]"
   ],
   "execution_count": 7,
   "outputs": []
  },
  {
   "cell_type": "code",
   "id": "5c07ef89",
   "metadata": {
    "ExecuteTime": {
     "end_time": "2025-04-01T17:04:27.957076Z",
     "start_time": "2025-04-01T17:04:27.950851Z"
    }
   },
   "source": [
    "high_volume_stocks_recent.set_index('SYMBOL', inplace=True)\n",
    "high_volume_stocks_recent.head()"
   ],
   "execution_count": 8,
   "outputs": []
  },
  {
   "cell_type": "code",
   "id": "874159d5",
   "metadata": {
    "ExecuteTime": {
     "end_time": "2025-04-01T17:04:28.524293Z",
     "start_time": "2025-04-01T17:04:27.957548Z"
    }
   },
   "source": [
    "def download_stock_data(symbol):\n",
    "    return yf.download(symbol + \".BO\", start=pd.to_datetime('today') - pd.DateOffset(365),\n",
    "                       end=pd.to_datetime('today') + pd.DateOffset(1), progress=False)\n",
    "\n",
    "def calculate_technical_indicators(data):\n",
    "    data['5DMA'] = data['Close'].rolling(window=5).mean()\n",
    "    data['20DMA'] = data['Close'].rolling(window=20).mean()\n",
    "    data['50DMA'] = data['Close'].rolling(window=50).mean()\n",
    "    data['100DMA'] = data['Close'].rolling(window=100).mean()\n",
    "    data['diff'] = data['Close'] - data['Open']\n",
    "    data['color'] = data['diff'].apply(lambda x: 'green' if x >= 0 else 'red')\n",
    "    return data\n",
    "\n",
    "def plot_stock_data(symbol, data):\n",
    "    # Prepare plot data\n",
    "    plot_data = data[data.index > (pd.to_datetime('today') - pd.DateOffset(days=180))]\n",
    "\n",
    "    # Setup subplot layout\n",
    "    figure = make_subplots(specs=[[{\"secondary_y\": True}]])\n",
    "\n",
    "    # Plot candlestick chart\n",
    "    figure.add_trace(go.Candlestick(x=plot_data.index,\n",
    "                                    open=plot_data['Open'],\n",
    "                                    high=plot_data['High'],\n",
    "                                    low=plot_data['Low'],\n",
    "                                    close=plot_data['Close'],\n",
    "                                    name='Price'))\n",
    "\n",
    "    # Adjust Y-axis and layout for stock prices\n",
    "    figure.update_yaxes(range=[plot_data['Close'].min()*0.9, plot_data['Close'].max()*1.05])\n",
    "    figure.update_xaxes(rangebreaks=[dict(bounds=['sat', 'mon'])], row=1, col=1)  # hide weekends\n",
    "    figure.update_layout(title={'text': symbol, 'x': 0.5}, xaxis_rangeslider_visible=False)\n",
    "\n",
    "    # Plot moving averages and volume\n",
    "    for ma, color in zip(['5DMA', '20DMA', '50DMA', '100DMA'], ['yellow', 'blue', 'orange', 'green']):\n",
    "        figure.add_trace(go.Scatter(x=plot_data.index, y=plot_data[ma], marker_color=color, name=f'{ma}'))\n",
    "    figure.add_trace(go.Bar(x=plot_data.index, y=plot_data['Volume'], name='Volume',\n",
    "                            marker={'color': plot_data['color']}), secondary_y=True)\n",
    "    \n",
    "\n",
    "    # Hide the secondary Y-axis (volume)\n",
    "    figure.update_yaxes(range=[0, plot_data['Volume'].max()*5], secondary_y=True)\n",
    "    figure.update_yaxes(visible=False, secondary_y=True)\n",
    "    return figure\n",
    "\n",
    "def calculate_stock_characteristics(symbol):\n",
    "    stock_row = high_volume_stocks_recent.loc[symbol]\n",
    "    characteristics = pd.DataFrame({\n",
    "                \"Attribute\": high_volume_stocks_recent.columns.values[1:],\n",
    "                \"Value\": stock_row.values[1:],\n",
    "            }).set_index(\"Attribute\").T\n",
    "    return characteristics\n",
    "\n",
    "\n",
    "def process_stocks(all_symbols):\n",
    "    num_processed = 0\n",
    "    file_count = 1\n",
    "    while num_processed < len(all_symbols):\n",
    "        figure_html = open(f'spike_in_volume_stocks_{file_count}.html', 'w')\n",
    "        for symbol in all_symbols[num_processed:num_processed+100]:\n",
    "            try:\n",
    "                data = download_stock_data(symbol)\n",
    "                data = calculate_technical_indicators(data)\n",
    "                figure = plot_stock_data(symbol, data)\n",
    "                figure_html.write(figure.to_html(full_html=False))\n",
    "            except Exception as e:\n",
    "                print(f\"Error processing symbol {symbol}: {e}\")\n",
    "        figure_html.close()\n",
    "        num_processed += 100\n",
    "        file_count += 1\n",
    "\n",
    "\n",
    "if __name__ == \"__main__\":\n",
    "    symbols = high_volume_stocks_recent.index.values\n",
    "    process_stocks(symbols)\n",
    "    print('Execution Completed!!!!')"
   ],
   "execution_count": 9,
   "outputs": []
  },
  {
   "metadata": {
    "ExecuteTime": {
     "end_time": "2025-04-01T17:04:28.528064Z",
     "start_time": "2025-04-01T17:04:28.526763Z"
    }
   },
   "cell_type": "code",
   "source": "",
   "id": "11fd69a1c39ffd19",
   "execution_count": 9,
   "outputs": []
  }
 ],
 "metadata": {
  "kernelspec": {
   "display_name": "Python 3 (ipykernel)",
   "language": "python",
   "name": "python3"
  },
  "language_info": {
   "codemirror_mode": {
    "name": "ipython",
    "version": 3
   },
   "file_extension": ".py",
   "mimetype": "text/x-python",
   "name": "python",
   "nbconvert_exporter": "python",
   "pygments_lexer": "ipython3",
   "version": "3.11.5"
  }
 },
 "nbformat": 4,
 "nbformat_minor": 5
}
