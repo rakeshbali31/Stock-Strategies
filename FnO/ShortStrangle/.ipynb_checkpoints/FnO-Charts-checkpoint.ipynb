{
 "cells": [
  {
   "cell_type": "code",
   "execution_count": 1,
   "id": "eaeeabbb",
   "metadata": {},
   "outputs": [],
   "source": [
    "import requests\n",
    "from nsepython import *\n",
    "import csv\n",
    "from bs4 import BeautifulSoup\n",
    "import pandas as pd\n",
    "import yfinance as yf\n",
    "import seaborn as sns\n",
    "import matplotlib.pyplot as plt\n",
    "from matplotlib.backends.backend_pdf import PdfPages\n",
    "\n",
    "import plotly.graph_objects as go\n",
    "from plotly.subplots import make_subplots"
   ]
  },
  {
   "cell_type": "code",
   "execution_count": 3,
   "id": "2ba58670",
   "metadata": {},
   "outputs": [],
   "source": [
    "fno_symbols = fnolist()\n",
    "fno_stocks = [symbol for symbol in fno_symbols if symbol not in ['NIFTY', 'NIFTYIT', 'BANKNIFTY']]"
   ]
  },
  {
   "cell_type": "code",
   "execution_count": 19,
   "id": "28d3aaf3",
   "metadata": {},
   "outputs": [],
   "source": [
    "df = pd.read_csv('stock_data.csv')\n",
    "df.set_index('SYMBOL', inplace=True)"
   ]
  },
  {
   "cell_type": "code",
   "execution_count": 22,
   "id": "3a565630",
   "metadata": {},
   "outputs": [
    {
     "ename": "KeyboardInterrupt",
     "evalue": "",
     "output_type": "error",
     "traceback": [
      "\u001b[0;31m---------------------------------------------------------------------------\u001b[0m",
      "\u001b[0;31mKeyboardInterrupt\u001b[0m                         Traceback (most recent call last)",
      "Cell \u001b[0;32mIn[22], line 81\u001b[0m\n\u001b[1;32m     79\u001b[0m \u001b[38;5;28;01mif\u001b[39;00m \u001b[38;5;18m__name__\u001b[39m \u001b[38;5;241m==\u001b[39m \u001b[38;5;124m\"\u001b[39m\u001b[38;5;124m__main__\u001b[39m\u001b[38;5;124m\"\u001b[39m:\n\u001b[1;32m     80\u001b[0m     symbols \u001b[38;5;241m=\u001b[39m fno_stocks\n\u001b[0;32m---> 81\u001b[0m     process_stocks(symbols)\n\u001b[1;32m     82\u001b[0m     \u001b[38;5;28mprint\u001b[39m(\u001b[38;5;124m'\u001b[39m\u001b[38;5;124mExecution Completed!!!!\u001b[39m\u001b[38;5;124m'\u001b[39m)\n",
      "Cell \u001b[0;32mIn[22], line 75\u001b[0m, in \u001b[0;36mprocess_stocks\u001b[0;34m(all_symbols)\u001b[0m\n\u001b[1;32m     73\u001b[0m         data \u001b[38;5;241m=\u001b[39m calculate_technical_indicators(data)\n\u001b[1;32m     74\u001b[0m         figure \u001b[38;5;241m=\u001b[39m plot_stock_data(symbol, data)\n\u001b[0;32m---> 75\u001b[0m         figure_html\u001b[38;5;241m.\u001b[39mwrite(figure\u001b[38;5;241m.\u001b[39mto_html(full_html\u001b[38;5;241m=\u001b[39m\u001b[38;5;28;01mFalse\u001b[39;00m))\n\u001b[1;32m     76\u001b[0m \u001b[38;5;28;01mexcept\u001b[39;00m \u001b[38;5;167;01mException\u001b[39;00m \u001b[38;5;28;01mas\u001b[39;00m e:\n\u001b[1;32m     77\u001b[0m     \u001b[38;5;28mprint\u001b[39m(\u001b[38;5;124mf\u001b[39m\u001b[38;5;124m\"\u001b[39m\u001b[38;5;124mError processing symbol \u001b[39m\u001b[38;5;132;01m{\u001b[39;00msymbol\u001b[38;5;132;01m}\u001b[39;00m\u001b[38;5;124m: \u001b[39m\u001b[38;5;132;01m{\u001b[39;00me\u001b[38;5;241m.\u001b[39margs\u001b[38;5;132;01m}\u001b[39;00m\u001b[38;5;124m\"\u001b[39m)\n",
      "\u001b[0;31mKeyboardInterrupt\u001b[0m: "
     ]
    }
   ],
   "source": [
    "def download_stock_data(symbol):\n",
    "    return yf.download(symbol + \".NS\", start=pd.to_datetime('today') - pd.DateOffset(365),\n",
    "                       end=pd.to_datetime('today') + pd.DateOffset(1), progress=False)\n",
    "\n",
    "def calculate_technical_indicators(data):\n",
    "    data['5DMA'] = data['Close'].rolling(window=5).mean()\n",
    "    data['20DMA'] = data['Close'].rolling(window=20).mean()\n",
    "    data['50DMA'] = data['Close'].rolling(window=50).mean()\n",
    "    data['100DMA'] = data['Close'].rolling(window=100).mean()\n",
    "    data['diff'] = data['Close'] - data['Open']\n",
    "    data['color'] = data['diff'].apply(lambda x: 'green' if x >= 0 else 'red')\n",
    "    return data\n",
    "\n",
    "def plot_stock_data(symbol, data):\n",
    "    # Prepare plot data\n",
    "    plot_data = data[data.index > (pd.to_datetime('today') - pd.DateOffset(days=180))]\n",
    "\n",
    "    # Setup subplot layout\n",
    "    figure = make_subplots(rows=1, cols=2, column_widths=[0.7, 0.3],\n",
    "                           specs=[[{\"secondary_y\": True}, {\"type\": \"table\"}]])\n",
    "\n",
    "    # Plot candlestick chart\n",
    "    figure.add_trace(go.Candlestick(x=plot_data.index,\n",
    "                                    open=plot_data['Open'],\n",
    "                                    high=plot_data['High'],\n",
    "                                    low=plot_data['Low'],\n",
    "                                    close=plot_data['Close'],\n",
    "                                    name='Price'), row=1, col=1)\n",
    "\n",
    "    # Adjust Y-axis and layout for stock prices\n",
    "    figure.update_yaxes(range=[plot_data['Close'].min()*0.9, plot_data['Close'].max()*1.05], row=1, col=1)\n",
    "    figure.update_xaxes(rangebreaks=[dict(bounds=['sat', 'mon'])], row=1, col=1)  # hide weekends\n",
    "    figure.update_layout(title={'text': symbol, 'x': 0.5}, xaxis_rangeslider_visible=False)\n",
    "\n",
    "    # Plot moving averages and volume\n",
    "    for ma, color in zip(['5DMA', '20DMA', '50DMA', '100DMA'], ['yellow', 'blue', 'orange', 'green']):\n",
    "        figure.add_trace(go.Scatter(x=plot_data.index, y=plot_data[ma], marker_color=color, name=f'{ma}'), row=1, col=1)\n",
    "    figure.add_trace(go.Bar(x=plot_data.index, y=plot_data['Volume'], name='Volume',\n",
    "                            marker={'color': plot_data['color']}), secondary_y=True, row=1, col=1)\n",
    "    \n",
    "\n",
    "    # Hide the secondary Y-axis (volume)\n",
    "    figure.update_yaxes(range=[0, plot_data['Volume'].max()*5], secondary_y=True, row=1, col=1)\n",
    "    figure.update_yaxes(visible=False, secondary_y=True, row=1, col=1)\n",
    "\n",
    "    # Plot stock characteristics in a table\n",
    "    characteristics = calculate_stock_characteristics(symbol)\n",
    "    table_trace = go.Table(\n",
    "                header=dict(values=['Attribute', 'Values'],\n",
    "                            fill_color='paleturquoise',\n",
    "                            align='left'),\n",
    "                cells=dict(values=[list(characteristics.transpose().index), list(characteristics.transpose().values)],\n",
    "                           fill_color='lavender',\n",
    "                           align='left'))\n",
    "    figure.add_trace(table_trace, row=1, col=2)\n",
    "    return figure\n",
    "\n",
    "def calculate_stock_characteristics(symbol):\n",
    "    stock_row = df.loc[symbol]\n",
    "    characteristics = pd.DataFrame({\n",
    "                \"Attribute\": [\"INDUSTRY\", \"SECTOR\", \"MARKET_CAP\", \"FNO\", \"P/E\", \"QoQ-SALES\", \"QoQ-PROFIT\", \"YoY-SALES\", \"YoY-PROFIT\", \"PROMOTER\", \"DII\", \"FII\", \"CHANGE-PROMOTER\", \"EXP-SALES-GROWTH\", \"RSI\", \"MACD\", \"ROCE\"],\n",
    "                \"Value\": [stock_row['INDUSTRY'], stock_row['SECTOR'], stock_row['Mar Cap Rs.Cr.'], stock_row['FNO'], stock_row['P/E'], stock_row['QoQ Sales %'], stock_row['QoQ Profits %'], stock_row['Qtr Sales Var %'], stock_row['Qtr Profit Var %'], stock_row['Prom. Hold. %'], stock_row['DII Hold %'], stock_row['FII Hold %'], stock_row['Change in Prom Hold %'], stock_row['Exp Qtr Sales Var %'], stock_row['RSI Rs.'], stock_row['MACD Signal Rs.'], stock_row['ROCE']]\n",
    "            }).set_index(\"Attribute\").T\n",
    "    return characteristics\n",
    "\n",
    "\n",
    "def process_stocks(all_symbols):\n",
    "    figure_html = open('fno_stocks.html', 'w')\n",
    "    for symbol in all_symbols:\n",
    "        try:\n",
    "            data = download_stock_data(symbol)\n",
    "            if not data.empty:\n",
    "                data = calculate_technical_indicators(data)\n",
    "                figure = plot_stock_data(symbol, data)\n",
    "                figure_html.write(figure.to_html(full_html=False))\n",
    "        except Exception as e:\n",
    "            print(f\"Error processing symbol {symbol}: {e.args}\")\n",
    "\n",
    "if __name__ == \"__main__\":\n",
    "    symbols = fno_stocks\n",
    "    process_stocks(symbols)\n",
    "    print('Execution Completed!!!!')"
   ]
  },
  {
   "cell_type": "code",
   "execution_count": null,
   "id": "331865d3",
   "metadata": {},
   "outputs": [],
   "source": []
  }
 ],
 "metadata": {
  "kernelspec": {
   "display_name": "Python 3 (ipykernel)",
   "language": "python",
   "name": "python3"
  },
  "language_info": {
   "codemirror_mode": {
    "name": "ipython",
    "version": 3
   },
   "file_extension": ".py",
   "mimetype": "text/x-python",
   "name": "python",
   "nbconvert_exporter": "python",
   "pygments_lexer": "ipython3",
   "version": "3.11.5"
  }
 },
 "nbformat": 4,
 "nbformat_minor": 5
}
