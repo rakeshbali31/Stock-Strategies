{
 "cells": [
  {
   "metadata": {
    "ExecuteTime": {
     "end_time": "2025-05-06T12:13:38.747149Z",
     "start_time": "2025-05-06T12:13:38.296004Z"
    }
   },
   "cell_type": "code",
   "source": [
    "import json\n",
    "import requests\n",
    "import pandas as pd\n",
    "import yfinance as yf\n",
    "import numpy as np\n",
    "\n",
    "import plotly.graph_objects as go\n",
    "from plotly.subplots import make_subplots"
   ],
   "id": "74365c7eec727f60",
   "outputs": [],
   "execution_count": 1
  },
  {
   "metadata": {
    "ExecuteTime": {
     "end_time": "2025-05-06T12:13:48.258163Z",
     "start_time": "2025-05-06T12:13:38.747814Z"
    }
   },
   "cell_type": "code",
   "source": [
    "# Load session and CSRF token\n",
    "with open(\"/Users/rakeshbali/Imperial/Stock Research/Shortlisted/StaticData/passwords.json\", \"r\") as f:\n",
    "    password = json.load(f)\n",
    "\n",
    "session_id = password.get(\"session_id\")\n",
    "csrf_token = password.get(\"csrf_token\")\n",
    "\n",
    "# Headers\n",
    "headers = {\n",
    "    'User-Agent': 'Mozilla/5.0',\n",
    "    'Cookie': f'sessionid={session_id}',\n",
    "    'X-CSRFToken': csrf_token\n",
    "}\n",
    "\n",
    "# Read index and URL data\n",
    "df_links = pd.read_csv(\"nifty_index_urls.csv\")\n",
    "\n",
    "# Initialize empty dataframe\n",
    "master_df = pd.DataFrame()\n",
    "\n",
    "# Loop through each index\n",
    "for _, row in df_links.iterrows():\n",
    "    index_name = row['INDEX']\n",
    "    url = row['URL']\n",
    "\n",
    "    try:\n",
    "        response = requests.get(url, headers=headers)\n",
    "\n",
    "        if response.status_code == 200:\n",
    "            data = response.json()\n",
    "            values = data.get('datasets')[0].get('values')\n",
    "            print\n",
    "            # Create dataframe with Date and Index Value\n",
    "            temp_df = pd.DataFrame(values, columns=[\"Date\", index_name])\n",
    "            temp_df[\"Date\"] = pd.to_datetime(temp_df[\"Date\"])\n",
    "\n",
    "            if master_df.empty:\n",
    "                master_df = temp_df\n",
    "            else:\n",
    "                master_df = pd.merge(master_df, temp_df, on=\"Date\", how=\"outer\")\n",
    "        else:\n",
    "            print(f\"Failed for {index_name}: Status Code {response.status_code}\")\n",
    "    except Exception as e:\n",
    "        print(f\"Error processing {index_name}: {e}\")\n",
    "\n",
    "# Sort by date\n",
    "master_df = master_df.sort_values(\"Date\")\n",
    "\n",
    "# Save final combined data\n",
    "master_df.to_csv(\"all_index_prices.csv\", index=False)"
   ],
   "id": "f0d1d445dd800c19",
   "outputs": [
    {
     "name": "stdout",
     "output_type": "stream",
     "text": [
      "Failed for NIFTY REALTY: Status Code 429\n",
      "Failed for NIFTY CONSUMER DURABLES: Status Code 429\n",
      "Failed for NIFTY OIL & GAS: Status Code 429\n",
      "Failed for NIFTY100 LOW VOLATILITY 30: Status Code 429\n",
      "Failed for NIFTY200 MOMENTUM 30: Status Code 429\n",
      "Failed for NIFTY500 MOMENTUM 50: Status Code 429\n",
      "Failed for NIFTY INDIA CONSUMPTION: Status Code 429\n",
      "Failed for NIFTY CPSE: Status Code 429\n",
      "Failed for NIFTY ENERGY: Status Code 429\n",
      "Failed for NIFTY INFRASTRUCTURE: Status Code 429\n",
      "Failed for NIFTY MNC: Status Code 429\n",
      "Failed for NIFTY SERVICES SECTOR: Status Code 429\n",
      "Failed for NIFTY INDIA DIGITAL: Status Code 429\n",
      "Failed for NIFTY INDIA MANUFACTURING: Status Code 429\n",
      "Failed for NIFTY INDIA DEFENCE: Status Code 429\n",
      "Failed for NIFTY INDIA TOURISM: Status Code 429\n",
      "Failed for NIFTY EV & NEW AGE AUTOMOTIVE: Status Code 429\n",
      "Failed for NIFTY INDIA NEW AGE CONSUMPTION: Status Code 429\n",
      "Failed for NIFTY MOBILITY: Status Code 429\n",
      "Failed for NIFTY HOUSING: Status Code 429\n",
      "Failed for NIFTY NON-CYCLICAL CONSUMER: Status Code 429\n",
      "Failed for NIFTY RURAL: Status Code 429\n",
      "Failed for NIFTY TRANSPORTATION & LOGISTICS: Status Code 429\n"
     ]
    }
   ],
   "execution_count": 2
  },
  {
   "metadata": {
    "ExecuteTime": {
     "end_time": "2025-05-06T12:13:48.263732Z",
     "start_time": "2025-05-06T12:13:48.259284Z"
    }
   },
   "cell_type": "code",
   "source": "df = pd.read_csv('all_index_prices.csv')",
   "id": "ad06f4dace2fd07e",
   "outputs": [],
   "execution_count": 3
  },
  {
   "metadata": {
    "ExecuteTime": {
     "end_time": "2025-05-06T12:13:48.635940Z",
     "start_time": "2025-05-06T12:13:48.264451Z"
    }
   },
   "cell_type": "code",
   "source": [
    "def calculate_technical_indicators_index(symbol):\n",
    "    # Create a new DataFrame with just the date and symbol columns\n",
    "    new_df = pd.DataFrame()\n",
    "    new_df['Date'] = pd.to_datetime(df['Date'])\n",
    "    new_df['Open'] = df[symbol].shift(1)\n",
    "    new_df['Close'] = df[symbol]\n",
    "\n",
    "    # Calculate moving averages\n",
    "    new_df['5DMA'] = df[symbol].rolling(window=5, min_periods=1).mean()\n",
    "    new_df['20DMA'] = df[symbol].rolling(window=20, min_periods=1).mean()\n",
    "    new_df['50DMA'] = df[symbol].rolling(window=50, min_periods=1).mean()\n",
    "    new_df['100DMA'] = df[symbol].rolling(window=100, min_periods=1).mean()\n",
    "\n",
    "    # Calculate daily change and color\n",
    "    new_df['diff'] = df[symbol].diff()\n",
    "    new_df['color'] = new_df['diff'].apply(lambda x: 'green' if x >= 0 else 'red')\n",
    "    if symbol == 'NIFTY 50':\n",
    "        new_df.to_csv('test.csv')\n",
    "    return new_df\n",
    "\n",
    "\n",
    "def plot_stock_data(symbol, data):\n",
    "    # Prepare plot data\n",
    "    plot_data = data[data['Date'] > (pd.to_datetime('today') - pd.DateOffset(days=240))]\n",
    "\n",
    "    # Setup subplot layout\n",
    "    figure = make_subplots(rows=1, cols=1)\n",
    "\n",
    "    # Plot candlestick chart\n",
    "    figure.add_trace(go.Candlestick(x=plot_data['Date'],\n",
    "                                    open=plot_data['Open'],\n",
    "                                    high=plot_data['Close'],\n",
    "                                    low=plot_data['Open'],\n",
    "                                    close=plot_data['Close'],\n",
    "                                    name='Price'))\n",
    "\n",
    "    # Plot moving averages and volume\n",
    "    for ma, color in zip(['5DMA', '20DMA', '50DMA', '100DMA'], ['yellow', 'blue', 'orange', 'green']):\n",
    "        figure.add_trace(go.Scatter(x=plot_data['Date'], y=plot_data[ma], marker_color=color, name=f'{ma}'))\n",
    "\n",
    "    # Adjust Y-axis and layout for stock prices\n",
    "    figure.update_yaxes(range=[plot_data['Close'].min()*0.9, plot_data['Close'].max()*1.05])\n",
    "    figure.update_xaxes(rangebreaks=[dict(bounds=['sat', 'mon'])])  # hide weekends\n",
    "    figure.update_layout(title={'text': symbol, 'x': 0.5}, xaxis_rangeslider_visible=False)\n",
    "\n",
    "    return figure\n",
    "\n",
    "def process_stocks():\n",
    "    figure_html = open('screener_sectors.html', 'w')\n",
    "    for symbol in df.columns.tolist()[1:]:\n",
    "        data = calculate_technical_indicators_index(symbol)\n",
    "        figure = plot_stock_data(symbol, data)\n",
    "        figure_html.write(figure.to_html(full_html=False))\n",
    "        # try:\n",
    "        #     \n",
    "        # except Exception as e:\n",
    "        #     print(f\"Error processing symbol {symbol}: {e.args}\")\n",
    "\n",
    "if __name__ == \"__main__\":\n",
    "    process_stocks()\n",
    "    print('Execution Completed!!!!')"
   ],
   "id": "930b0f5b8edd4cfd",
   "outputs": [
    {
     "name": "stdout",
     "output_type": "stream",
     "text": [
      "Execution Completed!!!!\n"
     ]
    }
   ],
   "execution_count": 4
  },
  {
   "metadata": {
    "ExecuteTime": {
     "end_time": "2025-05-06T12:13:48.637668Z",
     "start_time": "2025-05-06T12:13:48.636496Z"
    }
   },
   "cell_type": "code",
   "source": "",
   "id": "dbd698a64ffc38f1",
   "outputs": [],
   "execution_count": 4
  }
 ],
 "metadata": {
  "kernelspec": {
   "display_name": "Python 3",
   "language": "python",
   "name": "python3"
  },
  "language_info": {
   "codemirror_mode": {
    "name": "ipython",
    "version": 2
   },
   "file_extension": ".py",
   "mimetype": "text/x-python",
   "name": "python",
   "nbconvert_exporter": "python",
   "pygments_lexer": "ipython2",
   "version": "2.7.6"
  }
 },
 "nbformat": 4,
 "nbformat_minor": 5
}
