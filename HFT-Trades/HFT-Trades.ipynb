{
 "cells": [
  {
   "cell_type": "code",
   "id": "initial_id",
   "metadata": {
    "collapsed": true,
    "ExecuteTime": {
     "end_time": "2024-06-15T16:28:28.599675Z",
     "start_time": "2024-06-15T16:28:28.452904Z"
    }
   },
   "source": [
    "import requests\n",
    "import pandas as pd\n",
    "from bs4 import BeautifulSoup\n",
    "\n",
    "import yfinance as yf\n",
    "\n",
    "import plotly.graph_objects as go\n",
    "from plotly.subplots import make_subplots"
   ],
   "execution_count": 1,
   "outputs": []
  },
  {
   "metadata": {
    "ExecuteTime": {
     "end_time": "2024-06-15T16:28:29.507298Z",
     "start_time": "2024-06-15T16:28:29.463303Z"
    }
   },
   "cell_type": "code",
   "source": [
    "# Session ID and CSRF token obtained from somewhere (e.g., through authentication)\n",
    "session_id = 'jbj4ibouxarr9trfu2zndv9ns07n8qnl'\n",
    "csrf_token = 'RBIDkDj3gz0wIf3EH0JGPgGdYX9tLizS'"
   ],
   "id": "f522cbdd08b2f477",
   "execution_count": 2,
   "outputs": []
  },
  {
   "metadata": {},
   "cell_type": "markdown",
   "source": "",
   "id": "96f5d05c76cf6f0f"
  },
  {
   "metadata": {
    "ExecuteTime": {
     "end_time": "2024-06-15T16:28:40.269532Z",
     "start_time": "2024-06-15T16:28:32.320005Z"
    }
   },
   "cell_type": "code",
   "source": [
    "# Construct headers with session ID and CSRF token\n",
    "headers = {\n",
    "    'Cookie': f'sessionid={session_id}',  # Assuming the session ID is passed via cookie\n",
    "    'X-CSRFToken': csrf_token  # Assuming the CSRF token is passed in a header\n",
    "}\n",
    "\n",
    "# Fetch the HTML content\n",
    "url = \"https://www.screener.in/people/99911/graviton-research-capital-llp/\"\n",
    "response = requests.get(url, headers=headers)\n",
    "html_content = response.content\n",
    "\n",
    "# Parse the HTML content using BeautifulSoup\n",
    "soup = BeautifulSoup(html_content, 'html.parser')\n",
    "\n",
    "# Find the table in the HTML\n",
    "table = soup.find('table', class_='data-table')\n",
    "\n",
    "# Extract the headers\n",
    "headers = ['Symbol','Company', 'Date']\n",
    "\n",
    "# Extract the rows\n",
    "rows = []\n",
    "for tr in table.find('tbody').find_all('tr'):\n",
    "    company_td = tr.find('td', class_='text')\n",
    "    company_name = company_td.find('a').text.strip()\n",
    "    company_code = company_td.find('a').get('href').split('/')[2].upper()\n",
    "    date = company_td.find('span', class_='sub').text.strip()\n",
    "    rows.append([company_code, company_name, date])\n",
    "\n",
    "# Create a DataFrame\n",
    "df = pd.DataFrame(rows, columns=headers)\n",
    "\n",
    "# Drop Duplicates and Convert Date into Date format\n",
    "df = df.drop_duplicates()\n",
    "df['Date'] = pd.to_datetime(df['Date'])"
   ],
   "id": "3ac4f96368d182aa",
   "execution_count": 3,
   "outputs": []
  },
  {
   "metadata": {
    "ExecuteTime": {
     "end_time": "2024-06-15T16:39:52.991439Z",
     "start_time": "2024-06-15T16:39:52.986566Z"
    }
   },
   "cell_type": "code",
   "source": [
    "# Filter dataframe based on date\n",
    "df_filtered = df.loc[df['Date'] >= pd.to_datetime('2024-05-01')]\n",
    "df_filtered = df_filtered.loc[df_filtered['Date'] <= pd.to_datetime('2024-05-07')]"
   ],
   "id": "c8b9ee6c416e9bfa",
   "execution_count": 13,
   "outputs": []
  },
  {
   "metadata": {
    "ExecuteTime": {
     "end_time": "2024-06-15T16:39:54.707116Z",
     "start_time": "2024-06-15T16:39:54.702590Z"
    }
   },
   "cell_type": "code",
   "source": "df_filtered",
   "id": "a3da2fb1364cd7e1",
   "execution_count": 14,
   "outputs": []
  },
  {
   "metadata": {
    "ExecuteTime": {
     "end_time": "2024-06-15T16:40:05.425731Z",
     "start_time": "2024-06-15T16:40:02.282878Z"
    }
   },
   "cell_type": "code",
   "source": [
    "# Define functions to download stock data, calculate indicators, plot data, and process stocks\n",
    "def download_stock_data(symbol):\n",
    "    return yf.download(symbol + \".NS\", start=pd.to_datetime('today') - pd.DateOffset(365),\n",
    "                       end=pd.to_datetime('today') + pd.DateOffset(1), progress=False)\n",
    "\n",
    "def calculate_technical_indicators(data):\n",
    "    data['5DMA'] = data['Close'].rolling(window=5).mean()\n",
    "    data['20DMA'] = data['Close'].rolling(window=20).mean()\n",
    "    data['50DMA'] = data['Close'].rolling(window=50).mean()\n",
    "    data['100DMA'] = data['Close'].rolling(window=100).mean()\n",
    "    data['diff'] = data['Close'] - data['Open']\n",
    "    data['color'] = data['diff'].apply(lambda x: 'green' if x >= 0 else 'red')\n",
    "    return data\n",
    "\n",
    "def plot_stock_data(symbol, data, company_name, date):\n",
    "    # Prepare plot data\n",
    "    plot_data = data[data.index > (pd.to_datetime('today') - pd.DateOffset(days=180))]\n",
    "\n",
    "    # Setup subplot layout\n",
    "    figure = make_subplots(specs=[[{\"secondary_y\": True}]])\n",
    "\n",
    "    # Plot candlestick chart\n",
    "    figure.add_trace(go.Candlestick(x=plot_data.index,\n",
    "                                    open=plot_data['Open'],\n",
    "                                    high=plot_data['High'],\n",
    "                                    low=plot_data['Low'],\n",
    "                                    close=plot_data['Close'],\n",
    "                                    name='Price'))\n",
    "\n",
    "    # Adjust Y-axis and layout for stock prices\n",
    "    figure.update_yaxes(range=[plot_data['Close'].min()*0.9, plot_data['Close'].max()*1.05])\n",
    "    figure.update_xaxes(rangebreaks=[dict(bounds=['sat', 'mon'])], row=1, col=1)  # hide weekends\n",
    "    figure.update_layout(title={'text': symbol, 'x': 0.5}, xaxis_rangeslider_visible=False)\n",
    "\n",
    "    # Plot moving averages and volume\n",
    "    for ma, color in zip(['5DMA', '20DMA', '50DMA', '100DMA'], ['yellow', 'blue', 'orange', 'green']):\n",
    "        figure.add_trace(go.Scatter(x=plot_data.index, y=plot_data[ma], marker_color=color, name=f'{ma}'))\n",
    "    figure.add_trace(go.Bar(x=plot_data.index, y=plot_data['Volume'], name='Volume',\n",
    "                            marker={'color': plot_data['color']}), secondary_y=True)\n",
    "    \n",
    "    # Hide the secondary Y-axis (volume)\n",
    "    figure.update_yaxes(range=[0, plot_data['Volume'].max()*5], secondary_y=True)\n",
    "    figure.update_yaxes(visible=False, secondary_y=True)\n",
    "    \n",
    "    # Add company comment and PDF link below the chart using annotations\n",
    "    # figure.update_layout(\n",
    "    #     annotations=[\n",
    "    #         dict(\n",
    "    #             text=f\"<b>Company Name:</b> {company_name}<br><b>Date:</b> {date}<br>\",\n",
    "    #             xref=\"paper\", yref=\"paper\", x=0, y=-0.2, showarrow=False, align='left',\n",
    "    #             xanchor='left', yanchor='top'\n",
    "    #         )\n",
    "    #     ],\n",
    "    #     margin={'b': 200}  # Extend the bottom margin to make room for the annotation\n",
    "    # )\n",
    "\n",
    "    return figure\n",
    "\n",
    "def process_stocks(all_symbols, comments, pdf_links):\n",
    "    num_processed = 0\n",
    "    file_count = 1\n",
    "    while num_processed < len(all_symbols):\n",
    "        figure_html = open(f'HFT-Trades{file_count}.html', 'w')\n",
    "        for idx, symbol in enumerate(all_symbols[num_processed:num_processed+100]):\n",
    "            try:\n",
    "                data = download_stock_data(symbol)\n",
    "                data = calculate_technical_indicators(data)\n",
    "                comment = comments[num_processed + idx]\n",
    "                pdf_link = pdf_links[num_processed + idx]\n",
    "                figure = plot_stock_data(symbol, data, comment, pdf_link)\n",
    "                figure_html.write(figure.to_html(full_html=False))\n",
    "            except Exception as e:\n",
    "                print(f\"Error processing symbol {symbol}: {e}\")\n",
    "        figure_html.close()\n",
    "        num_processed += 100\n",
    "        file_count += 1\n",
    "\n",
    "if __name__ == \"__main__\":\n",
    "    symbols = df_filtered['Symbol'].values\n",
    "    company_name = df['Company'].values\n",
    "    date = df['Date'].values\n",
    "    process_stocks(symbols, company_name, date)\n",
    "    print('Execution Completed!!!!')"
   ],
   "id": "f2a341a6f5fc0bb1",
   "execution_count": 15,
   "outputs": []
  },
  {
   "metadata": {},
   "cell_type": "code",
   "execution_count": null,
   "source": "",
   "id": "382c86c4fb930571",
   "outputs": []
  }
 ],
 "metadata": {
  "kernelspec": {
   "display_name": "Python 3",
   "language": "python",
   "name": "python3"
  },
  "language_info": {
   "codemirror_mode": {
    "name": "ipython",
    "version": 2
   },
   "file_extension": ".py",
   "mimetype": "text/x-python",
   "name": "python",
   "nbconvert_exporter": "python",
   "pygments_lexer": "ipython2",
   "version": "2.7.6"
  }
 },
 "nbformat": 4,
 "nbformat_minor": 5
}
