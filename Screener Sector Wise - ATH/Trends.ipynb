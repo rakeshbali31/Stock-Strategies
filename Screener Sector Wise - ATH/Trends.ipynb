{
 "cells": [
  {
   "metadata": {
    "ExecuteTime": {
     "end_time": "2025-05-07T02:44:26.863580Z",
     "start_time": "2025-05-07T02:44:26.848877Z"
    }
   },
   "cell_type": "code",
   "source": [
    "# pip install --upgrade yfinance\n",
    "import yfinance as yf\n",
    "import pandas as pd\n",
    "\n",
    "import plotly.graph_objects as go\n",
    "from plotly.subplots import make_subplots\n",
    "\n",
    "from bsedata.bse import BSE"
   ],
   "id": "5faa06c2abf3ac9f",
   "outputs": [],
   "execution_count": 7
  },
  {
   "metadata": {
    "ExecuteTime": {
     "end_time": "2025-05-07T02:44:27.344239Z",
     "start_time": "2025-05-07T02:44:27.330786Z"
    }
   },
   "cell_type": "code",
   "source": [
    "# Read the CSV file\n",
    "df = pd.read_csv('CsvFiles/trends.csv')\n",
    "\n",
    "# Extract the company codes\n",
    "bse_codes = df['BSE Code'].dropna().tolist()  # Drop missing values and convert to list\n",
    "nse_codes = df['NSE Code'].dropna().tolist()  # Drop missing values and convert to list"
   ],
   "id": "725bb436599e155e",
   "outputs": [],
   "execution_count": 8
  },
  {
   "metadata": {
    "ExecuteTime": {
     "end_time": "2025-05-07T02:44:27.942500Z",
     "start_time": "2025-05-07T02:44:27.939072Z"
    }
   },
   "cell_type": "code",
   "source": "len(nse_codes)",
   "id": "c8fb114957850253",
   "outputs": [
    {
     "data": {
      "text/plain": [
       "1013"
      ]
     },
     "execution_count": 9,
     "metadata": {},
     "output_type": "execute_result"
    }
   ],
   "execution_count": 9
  },
  {
   "metadata": {
    "ExecuteTime": {
     "end_time": "2025-05-07T03:14:57.525801Z",
     "start_time": "2025-05-07T02:44:36.053664Z"
    }
   },
   "cell_type": "code",
   "source": [
    "%%capture\n",
    "# Define a function to calculate moving averages and percentages\n",
    "def calculate_moving_averages_and_percentages(symbol):\n",
    "    # Fetch stock data\n",
    "    data = yf.download(symbol + \".NS\", start=pd.to_datetime('today') - pd.DateOffset(365), end=pd.to_datetime('today') + pd.DateOffset(1), progress=False, auto_adjust=False)\n",
    "    print(data)\n",
    "    data.columns = [col[0] for col in data.columns]\n",
    "    #data = yf.download(symbol + \".NS\", period=\"1y\", actions=True)\n",
    "        \n",
    "    if data.empty:\n",
    "        return None  # Skip if no data is fetched\n",
    "    \n",
    "    # Calculate 20DMA, 50DMA, and 200DMA\n",
    "    data['20DMA'] = data['Close'].rolling(window=20).mean()\n",
    "    data['50DMA'] = data['Close'].rolling(window=50).mean()\n",
    "    data['200DMA'] = data['Close'].rolling(window=200).mean()\n",
    "    \n",
    "    # Calculate percentages of days where Close > DMA\n",
    "    total_days = len(data)\n",
    "    if total_days == 0:\n",
    "        return None\n",
    "    \n",
    "    percent_20DMA = ((data['Close'] > data['20DMA']).sum() / total_days) * 100\n",
    "    percent_50DMA = ((data['Close'] > data['50DMA']).sum() / total_days) * 100\n",
    "    percent_200DMA = ((data['Close'] > data['200DMA']).sum() / total_days) * 100\n",
    "    \n",
    "    return {\n",
    "        \"Stock\": symbol,\n",
    "        \"Percent_20DMA\": percent_20DMA,\n",
    "        \"Percent_50DMA\": percent_50DMA,\n",
    "        \"Percent_200DMA\": percent_200DMA\n",
    "    }\n",
    "        \n",
    "\n",
    "# Process each stock\n",
    "results = []\n",
    "for symbol in nse_codes:\n",
    "    result = calculate_moving_averages_and_percentages(symbol)\n",
    "    if result:\n",
    "        results.append(result)\n",
    "\n",
    "# Create a summary DataFrame\n",
    "summary_df = pd.DataFrame(results)\n",
    "summary_df = summary_df.sort_values(by='Percent_20DMA', ascending=False)  # Sort by 50DMA percentage"
   ],
   "id": "b0f536f164c12c87",
   "outputs": [
    {
     "ename": "KeyError",
     "evalue": "'Percent_20DMA'",
     "output_type": "error",
     "traceback": [
      "\u001B[0;31m---------------------------------------------------------------------------\u001B[0m",
      "\u001B[0;31mKeyError\u001B[0m                                  Traceback (most recent call last)",
      "\u001B[0;32m/var/folders/y8/cj_f7jps7ylfv21xfzjbynm40000gn/T/ipykernel_32736/3308890257.py\u001B[0m in \u001B[0;36m?\u001B[0;34m()\u001B[0m\n\u001B[1;32m     39\u001B[0m         \u001B[0mresults\u001B[0m\u001B[0;34m.\u001B[0m\u001B[0mappend\u001B[0m\u001B[0;34m(\u001B[0m\u001B[0mresult\u001B[0m\u001B[0;34m)\u001B[0m\u001B[0;34m\u001B[0m\u001B[0;34m\u001B[0m\u001B[0m\n\u001B[1;32m     40\u001B[0m \u001B[0;34m\u001B[0m\u001B[0m\n\u001B[1;32m     41\u001B[0m \u001B[0;31m# Create a summary DataFrame\u001B[0m\u001B[0;34m\u001B[0m\u001B[0;34m\u001B[0m\u001B[0m\n\u001B[1;32m     42\u001B[0m \u001B[0msummary_df\u001B[0m \u001B[0;34m=\u001B[0m \u001B[0mpd\u001B[0m\u001B[0;34m.\u001B[0m\u001B[0mDataFrame\u001B[0m\u001B[0;34m(\u001B[0m\u001B[0mresults\u001B[0m\u001B[0;34m)\u001B[0m\u001B[0;34m\u001B[0m\u001B[0;34m\u001B[0m\u001B[0m\n\u001B[0;32m---> 43\u001B[0;31m \u001B[0msummary_df\u001B[0m \u001B[0;34m=\u001B[0m \u001B[0msummary_df\u001B[0m\u001B[0;34m.\u001B[0m\u001B[0msort_values\u001B[0m\u001B[0;34m(\u001B[0m\u001B[0mby\u001B[0m\u001B[0;34m=\u001B[0m\u001B[0;34m'Percent_20DMA'\u001B[0m\u001B[0;34m,\u001B[0m \u001B[0mascending\u001B[0m\u001B[0;34m=\u001B[0m\u001B[0;32mFalse\u001B[0m\u001B[0;34m)\u001B[0m  \u001B[0;31m# Sort by 50DMA percentage\u001B[0m\u001B[0;34m\u001B[0m\u001B[0;34m\u001B[0m\u001B[0m\n\u001B[0m",
      "\u001B[0;32m~/anaconda3/lib/python3.11/site-packages/pandas/core/frame.py\u001B[0m in \u001B[0;36m?\u001B[0;34m(self, by, axis, ascending, inplace, kind, na_position, ignore_index, key)\u001B[0m\n\u001B[1;32m   6754\u001B[0m         \u001B[0;32melif\u001B[0m \u001B[0mlen\u001B[0m\u001B[0;34m(\u001B[0m\u001B[0mby\u001B[0m\u001B[0;34m)\u001B[0m\u001B[0;34m:\u001B[0m\u001B[0;34m\u001B[0m\u001B[0;34m\u001B[0m\u001B[0m\n\u001B[1;32m   6755\u001B[0m             \u001B[0;31m# len(by) == 1\u001B[0m\u001B[0;34m\u001B[0m\u001B[0;34m\u001B[0m\u001B[0m\n\u001B[1;32m   6756\u001B[0m \u001B[0;34m\u001B[0m\u001B[0m\n\u001B[1;32m   6757\u001B[0m             \u001B[0mby\u001B[0m \u001B[0;34m=\u001B[0m \u001B[0mby\u001B[0m\u001B[0;34m[\u001B[0m\u001B[0;36m0\u001B[0m\u001B[0;34m]\u001B[0m\u001B[0;34m\u001B[0m\u001B[0;34m\u001B[0m\u001B[0m\n\u001B[0;32m-> 6758\u001B[0;31m             \u001B[0mk\u001B[0m \u001B[0;34m=\u001B[0m \u001B[0mself\u001B[0m\u001B[0;34m.\u001B[0m\u001B[0m_get_label_or_level_values\u001B[0m\u001B[0;34m(\u001B[0m\u001B[0mby\u001B[0m\u001B[0;34m,\u001B[0m \u001B[0maxis\u001B[0m\u001B[0;34m=\u001B[0m\u001B[0maxis\u001B[0m\u001B[0;34m)\u001B[0m\u001B[0;34m\u001B[0m\u001B[0;34m\u001B[0m\u001B[0m\n\u001B[0m\u001B[1;32m   6759\u001B[0m \u001B[0;34m\u001B[0m\u001B[0m\n\u001B[1;32m   6760\u001B[0m             \u001B[0;31m# need to rewrap column in Series to apply key function\u001B[0m\u001B[0;34m\u001B[0m\u001B[0;34m\u001B[0m\u001B[0m\n\u001B[1;32m   6761\u001B[0m             \u001B[0;32mif\u001B[0m \u001B[0mkey\u001B[0m \u001B[0;32mis\u001B[0m \u001B[0;32mnot\u001B[0m \u001B[0;32mNone\u001B[0m\u001B[0;34m:\u001B[0m\u001B[0;34m\u001B[0m\u001B[0;34m\u001B[0m\u001B[0m\n",
      "\u001B[0;32m~/anaconda3/lib/python3.11/site-packages/pandas/core/generic.py\u001B[0m in \u001B[0;36m?\u001B[0;34m(self, key, axis)\u001B[0m\n\u001B[1;32m   1774\u001B[0m             \u001B[0mvalues\u001B[0m \u001B[0;34m=\u001B[0m \u001B[0mself\u001B[0m\u001B[0;34m.\u001B[0m\u001B[0mxs\u001B[0m\u001B[0;34m(\u001B[0m\u001B[0mkey\u001B[0m\u001B[0;34m,\u001B[0m \u001B[0maxis\u001B[0m\u001B[0;34m=\u001B[0m\u001B[0mother_axes\u001B[0m\u001B[0;34m[\u001B[0m\u001B[0;36m0\u001B[0m\u001B[0;34m]\u001B[0m\u001B[0;34m)\u001B[0m\u001B[0;34m.\u001B[0m\u001B[0m_values\u001B[0m\u001B[0;34m\u001B[0m\u001B[0;34m\u001B[0m\u001B[0m\n\u001B[1;32m   1775\u001B[0m         \u001B[0;32melif\u001B[0m \u001B[0mself\u001B[0m\u001B[0;34m.\u001B[0m\u001B[0m_is_level_reference\u001B[0m\u001B[0;34m(\u001B[0m\u001B[0mkey\u001B[0m\u001B[0;34m,\u001B[0m \u001B[0maxis\u001B[0m\u001B[0;34m=\u001B[0m\u001B[0maxis\u001B[0m\u001B[0;34m)\u001B[0m\u001B[0;34m:\u001B[0m\u001B[0;34m\u001B[0m\u001B[0;34m\u001B[0m\u001B[0m\n\u001B[1;32m   1776\u001B[0m             \u001B[0mvalues\u001B[0m \u001B[0;34m=\u001B[0m \u001B[0mself\u001B[0m\u001B[0;34m.\u001B[0m\u001B[0maxes\u001B[0m\u001B[0;34m[\u001B[0m\u001B[0maxis\u001B[0m\u001B[0;34m]\u001B[0m\u001B[0;34m.\u001B[0m\u001B[0mget_level_values\u001B[0m\u001B[0;34m(\u001B[0m\u001B[0mkey\u001B[0m\u001B[0;34m)\u001B[0m\u001B[0;34m.\u001B[0m\u001B[0m_values\u001B[0m\u001B[0;34m\u001B[0m\u001B[0;34m\u001B[0m\u001B[0m\n\u001B[1;32m   1777\u001B[0m         \u001B[0;32melse\u001B[0m\u001B[0;34m:\u001B[0m\u001B[0;34m\u001B[0m\u001B[0;34m\u001B[0m\u001B[0m\n\u001B[0;32m-> 1778\u001B[0;31m             \u001B[0;32mraise\u001B[0m \u001B[0mKeyError\u001B[0m\u001B[0;34m(\u001B[0m\u001B[0mkey\u001B[0m\u001B[0;34m)\u001B[0m\u001B[0;34m\u001B[0m\u001B[0;34m\u001B[0m\u001B[0m\n\u001B[0m\u001B[1;32m   1779\u001B[0m \u001B[0;34m\u001B[0m\u001B[0m\n\u001B[1;32m   1780\u001B[0m         \u001B[0;31m# Check for duplicates\u001B[0m\u001B[0;34m\u001B[0m\u001B[0;34m\u001B[0m\u001B[0m\n\u001B[1;32m   1781\u001B[0m         \u001B[0;32mif\u001B[0m \u001B[0mvalues\u001B[0m\u001B[0;34m.\u001B[0m\u001B[0mndim\u001B[0m \u001B[0;34m>\u001B[0m \u001B[0;36m1\u001B[0m\u001B[0;34m:\u001B[0m\u001B[0;34m\u001B[0m\u001B[0;34m\u001B[0m\u001B[0m\n",
      "\u001B[0;31mKeyError\u001B[0m: 'Percent_20DMA'"
     ]
    }
   ],
   "execution_count": 10
  },
  {
   "metadata": {
    "ExecuteTime": {
     "end_time": "2025-05-06T12:57:19.833130Z",
     "start_time": "2025-05-06T12:57:19.830214Z"
    }
   },
   "cell_type": "code",
   "source": "summary_df.to_csv('CsvFiles/trends_results.csv', index=False)",
   "id": "1d5642b7ac8f72d3",
   "outputs": [],
   "execution_count": 5
  },
  {
   "metadata": {
    "ExecuteTime": {
     "end_time": "2025-05-06T12:57:19.845386Z",
     "start_time": "2025-05-06T12:57:19.834840Z"
    }
   },
   "cell_type": "code",
   "source": [
    "def download_stock_data(symbol):\n",
    "    data = yf.download(symbol + \".NS\", start=pd.to_datetime('today') - pd.DateOffset(365), end=pd.to_datetime('today') + pd.DateOffset(1), progress=False)\n",
    "    data.columns = [col[0] for col in data.columns]\n",
    "    return data\n",
    "    \n",
    "    \n",
    "def calculate_technical_indicators(data):\n",
    "    data['5DMA'] = data['Close'].rolling(window=5).mean()\n",
    "    data['20DMA'] = data['Close'].rolling(window=20).mean()\n",
    "    data['50DMA'] = data['Close'].rolling(window=50).mean()\n",
    "    data['100DMA'] = data['Close'].rolling(window=100).mean()\n",
    "    data['diff'] = data['Close'] - data['Open']\n",
    "    data['color'] = data['diff'].apply(lambda x: 'green' if x >= 0 else 'red')\n",
    "    return data\n",
    "    \n",
    "\n",
    "def plot_stock_data(symbol, data):\n",
    "    plot_data = data[data.index > (pd.to_datetime('today') - pd.DateOffset(days=200))]\n",
    "    \n",
    "    # Setup subplot layout\n",
    "    figure = make_subplots(rows=1, cols=1, specs=[[{\"secondary_y\": True}]])\n",
    "    \n",
    "    # Plot candlestick chart\n",
    "    figure.add_trace(go.Candlestick(x=plot_data.index,\n",
    "                                    open=plot_data['Open'],\n",
    "                                    high=plot_data['High'],\n",
    "                                    low=plot_data['Low'],\n",
    "                                    close=plot_data['Close'],\n",
    "                                    name='Price'), row=1, col=1)\n",
    "    \n",
    "    # Plot moving averages\n",
    "    for ma, color in zip(['5DMA', '20DMA', '50DMA', '100DMA'], ['yellow', 'blue', 'orange', 'green']):\n",
    "        figure.add_trace(go.Scatter(x=plot_data.index, y=plot_data[ma], marker_color=color, name=f'{ma}'), row=1, col=1)\n",
    "\n",
    "    # Plot volume with color-coded bars (green for positive, red for negative days)\n",
    "    figure.add_trace(go.Bar(x=plot_data.index, y=plot_data['Volume'], name='Volume',\n",
    "                            marker={'color': plot_data['color']}), secondary_y=True, row=1, col=1)\n",
    "\n",
    "    # Update axes\n",
    "    figure.update_yaxes(range=[plot_data['Close'].min()*0.8, plot_data['Close'].max()*1.2], row=1, col=1)\n",
    "    figure.update_xaxes(rangebreaks=[dict(bounds=['sat', 'mon'])], row=1, col=1)  # Hide weekends\n",
    "    figure.update_layout(title={'text': symbol, 'x': 0.5}, xaxis_rangeslider_visible=False)\n",
    "\n",
    "    # Hide the secondary Y-axis (volume)\n",
    "    figure.update_yaxes(range=[0, plot_data['Volume'].max()*5], secondary_y=True, row=1, col=1)\n",
    "    figure.update_yaxes(visible=False, secondary_y=True, row=1, col=1)\n",
    "\n",
    "    return figure\n",
    "\n",
    "\n",
    "def process_stocks(all_symbols, page):\n",
    "    figure_html = open(f'Plots/Trend{page}.html', 'w')\n",
    "    for symbol in all_symbols:\n",
    "        try:\n",
    "            data = download_stock_data(symbol)\n",
    "            data = calculate_technical_indicators(data)\n",
    "            figure = plot_stock_data(symbol, data)\n",
    "            figure_html.write(figure.to_html(full_html=False))\n",
    "        except Exception as e:\n",
    "            e \n",
    "    figure_html.close()\n",
    "\n",
    "\n",
    "if __name__ == \"__main__\":\n",
    "    symbols = summary_df.sort_values('Percent_20DMA', ascending=False)['Stock'][:100].tolist()\n",
    "    process_stocks(symbols, 1)\n",
    "    # symbols = summary_df.sort_values('Percent_50DMA', ascending=False)['Stock'][100:200].tolist()\n",
    "    # process_stocks(symbols, 2)\n",
    "    print('Execution Completed!!!!')"
   ],
   "id": "1cc46550fa8207c7",
   "outputs": [
    {
     "ename": "KeyError",
     "evalue": "'Percent_20DMA'",
     "output_type": "error",
     "traceback": [
      "\u001B[0;31m---------------------------------------------------------------------------\u001B[0m",
      "\u001B[0;31mKeyError\u001B[0m                                  Traceback (most recent call last)",
      "\u001B[0;32m/var/folders/y8/cj_f7jps7ylfv21xfzjbynm40000gn/T/ipykernel_32736/205378279.py\u001B[0m in \u001B[0;36m?\u001B[0;34m()\u001B[0m\n\u001B[1;32m     61\u001B[0m     \u001B[0mfigure_html\u001B[0m\u001B[0;34m.\u001B[0m\u001B[0mclose\u001B[0m\u001B[0;34m(\u001B[0m\u001B[0;34m)\u001B[0m\u001B[0;34m\u001B[0m\u001B[0;34m\u001B[0m\u001B[0m\n\u001B[1;32m     62\u001B[0m \u001B[0;34m\u001B[0m\u001B[0m\n\u001B[1;32m     63\u001B[0m \u001B[0;34m\u001B[0m\u001B[0m\n\u001B[1;32m     64\u001B[0m \u001B[0;32mif\u001B[0m \u001B[0m__name__\u001B[0m \u001B[0;34m==\u001B[0m \u001B[0;34m\"__main__\"\u001B[0m\u001B[0;34m:\u001B[0m\u001B[0;34m\u001B[0m\u001B[0;34m\u001B[0m\u001B[0m\n\u001B[0;32m---> 65\u001B[0;31m     \u001B[0msymbols\u001B[0m \u001B[0;34m=\u001B[0m \u001B[0msummary_df\u001B[0m\u001B[0;34m.\u001B[0m\u001B[0msort_values\u001B[0m\u001B[0;34m(\u001B[0m\u001B[0;34m'Percent_20DMA'\u001B[0m\u001B[0;34m,\u001B[0m \u001B[0mascending\u001B[0m\u001B[0;34m=\u001B[0m\u001B[0;32mFalse\u001B[0m\u001B[0;34m)\u001B[0m\u001B[0;34m[\u001B[0m\u001B[0;34m'Stock'\u001B[0m\u001B[0;34m]\u001B[0m\u001B[0;34m[\u001B[0m\u001B[0;34m:\u001B[0m\u001B[0;36m100\u001B[0m\u001B[0;34m]\u001B[0m\u001B[0;34m.\u001B[0m\u001B[0mtolist\u001B[0m\u001B[0;34m(\u001B[0m\u001B[0;34m)\u001B[0m\u001B[0;34m\u001B[0m\u001B[0;34m\u001B[0m\u001B[0m\n\u001B[0m\u001B[1;32m     66\u001B[0m     \u001B[0mprocess_stocks\u001B[0m\u001B[0;34m(\u001B[0m\u001B[0msymbols\u001B[0m\u001B[0;34m,\u001B[0m \u001B[0;36m1\u001B[0m\u001B[0;34m)\u001B[0m\u001B[0;34m\u001B[0m\u001B[0;34m\u001B[0m\u001B[0m\n\u001B[1;32m     67\u001B[0m     \u001B[0;31m# symbols = summary_df.sort_values('Percent_50DMA', ascending=False)['Stock'][100:200].tolist()\u001B[0m\u001B[0;34m\u001B[0m\u001B[0;34m\u001B[0m\u001B[0m\n\u001B[1;32m     68\u001B[0m     \u001B[0;31m# process_stocks(symbols, 2)\u001B[0m\u001B[0;34m\u001B[0m\u001B[0;34m\u001B[0m\u001B[0m\n",
      "\u001B[0;32m~/anaconda3/lib/python3.11/site-packages/pandas/core/frame.py\u001B[0m in \u001B[0;36m?\u001B[0;34m(self, by, axis, ascending, inplace, kind, na_position, ignore_index, key)\u001B[0m\n\u001B[1;32m   6754\u001B[0m         \u001B[0;32melif\u001B[0m \u001B[0mlen\u001B[0m\u001B[0;34m(\u001B[0m\u001B[0mby\u001B[0m\u001B[0;34m)\u001B[0m\u001B[0;34m:\u001B[0m\u001B[0;34m\u001B[0m\u001B[0;34m\u001B[0m\u001B[0m\n\u001B[1;32m   6755\u001B[0m             \u001B[0;31m# len(by) == 1\u001B[0m\u001B[0;34m\u001B[0m\u001B[0;34m\u001B[0m\u001B[0m\n\u001B[1;32m   6756\u001B[0m \u001B[0;34m\u001B[0m\u001B[0m\n\u001B[1;32m   6757\u001B[0m             \u001B[0mby\u001B[0m \u001B[0;34m=\u001B[0m \u001B[0mby\u001B[0m\u001B[0;34m[\u001B[0m\u001B[0;36m0\u001B[0m\u001B[0;34m]\u001B[0m\u001B[0;34m\u001B[0m\u001B[0;34m\u001B[0m\u001B[0m\n\u001B[0;32m-> 6758\u001B[0;31m             \u001B[0mk\u001B[0m \u001B[0;34m=\u001B[0m \u001B[0mself\u001B[0m\u001B[0;34m.\u001B[0m\u001B[0m_get_label_or_level_values\u001B[0m\u001B[0;34m(\u001B[0m\u001B[0mby\u001B[0m\u001B[0;34m,\u001B[0m \u001B[0maxis\u001B[0m\u001B[0;34m=\u001B[0m\u001B[0maxis\u001B[0m\u001B[0;34m)\u001B[0m\u001B[0;34m\u001B[0m\u001B[0;34m\u001B[0m\u001B[0m\n\u001B[0m\u001B[1;32m   6759\u001B[0m \u001B[0;34m\u001B[0m\u001B[0m\n\u001B[1;32m   6760\u001B[0m             \u001B[0;31m# need to rewrap column in Series to apply key function\u001B[0m\u001B[0;34m\u001B[0m\u001B[0;34m\u001B[0m\u001B[0m\n\u001B[1;32m   6761\u001B[0m             \u001B[0;32mif\u001B[0m \u001B[0mkey\u001B[0m \u001B[0;32mis\u001B[0m \u001B[0;32mnot\u001B[0m \u001B[0;32mNone\u001B[0m\u001B[0;34m:\u001B[0m\u001B[0;34m\u001B[0m\u001B[0;34m\u001B[0m\u001B[0m\n",
      "\u001B[0;32m~/anaconda3/lib/python3.11/site-packages/pandas/core/generic.py\u001B[0m in \u001B[0;36m?\u001B[0;34m(self, key, axis)\u001B[0m\n\u001B[1;32m   1774\u001B[0m             \u001B[0mvalues\u001B[0m \u001B[0;34m=\u001B[0m \u001B[0mself\u001B[0m\u001B[0;34m.\u001B[0m\u001B[0mxs\u001B[0m\u001B[0;34m(\u001B[0m\u001B[0mkey\u001B[0m\u001B[0;34m,\u001B[0m \u001B[0maxis\u001B[0m\u001B[0;34m=\u001B[0m\u001B[0mother_axes\u001B[0m\u001B[0;34m[\u001B[0m\u001B[0;36m0\u001B[0m\u001B[0;34m]\u001B[0m\u001B[0;34m)\u001B[0m\u001B[0;34m.\u001B[0m\u001B[0m_values\u001B[0m\u001B[0;34m\u001B[0m\u001B[0;34m\u001B[0m\u001B[0m\n\u001B[1;32m   1775\u001B[0m         \u001B[0;32melif\u001B[0m \u001B[0mself\u001B[0m\u001B[0;34m.\u001B[0m\u001B[0m_is_level_reference\u001B[0m\u001B[0;34m(\u001B[0m\u001B[0mkey\u001B[0m\u001B[0;34m,\u001B[0m \u001B[0maxis\u001B[0m\u001B[0;34m=\u001B[0m\u001B[0maxis\u001B[0m\u001B[0;34m)\u001B[0m\u001B[0;34m:\u001B[0m\u001B[0;34m\u001B[0m\u001B[0;34m\u001B[0m\u001B[0m\n\u001B[1;32m   1776\u001B[0m             \u001B[0mvalues\u001B[0m \u001B[0;34m=\u001B[0m \u001B[0mself\u001B[0m\u001B[0;34m.\u001B[0m\u001B[0maxes\u001B[0m\u001B[0;34m[\u001B[0m\u001B[0maxis\u001B[0m\u001B[0;34m]\u001B[0m\u001B[0;34m.\u001B[0m\u001B[0mget_level_values\u001B[0m\u001B[0;34m(\u001B[0m\u001B[0mkey\u001B[0m\u001B[0;34m)\u001B[0m\u001B[0;34m.\u001B[0m\u001B[0m_values\u001B[0m\u001B[0;34m\u001B[0m\u001B[0;34m\u001B[0m\u001B[0m\n\u001B[1;32m   1777\u001B[0m         \u001B[0;32melse\u001B[0m\u001B[0;34m:\u001B[0m\u001B[0;34m\u001B[0m\u001B[0;34m\u001B[0m\u001B[0m\n\u001B[0;32m-> 1778\u001B[0;31m             \u001B[0;32mraise\u001B[0m \u001B[0mKeyError\u001B[0m\u001B[0;34m(\u001B[0m\u001B[0mkey\u001B[0m\u001B[0;34m)\u001B[0m\u001B[0;34m\u001B[0m\u001B[0;34m\u001B[0m\u001B[0m\n\u001B[0m\u001B[1;32m   1779\u001B[0m \u001B[0;34m\u001B[0m\u001B[0m\n\u001B[1;32m   1780\u001B[0m         \u001B[0;31m# Check for duplicates\u001B[0m\u001B[0;34m\u001B[0m\u001B[0;34m\u001B[0m\u001B[0m\n\u001B[1;32m   1781\u001B[0m         \u001B[0;32mif\u001B[0m \u001B[0mvalues\u001B[0m\u001B[0;34m.\u001B[0m\u001B[0mndim\u001B[0m \u001B[0;34m>\u001B[0m \u001B[0;36m1\u001B[0m\u001B[0;34m:\u001B[0m\u001B[0;34m\u001B[0m\u001B[0;34m\u001B[0m\u001B[0m\n",
      "\u001B[0;31mKeyError\u001B[0m: 'Percent_20DMA'"
     ]
    }
   ],
   "execution_count": 6
  }
 ],
 "metadata": {
  "kernelspec": {
   "display_name": "Python 3",
   "language": "python",
   "name": "python3"
  },
  "language_info": {
   "codemirror_mode": {
    "name": "ipython",
    "version": 2
   },
   "file_extension": ".py",
   "mimetype": "text/x-python",
   "name": "python",
   "nbconvert_exporter": "python",
   "pygments_lexer": "ipython2",
   "version": "2.7.6"
  }
 },
 "nbformat": 4,
 "nbformat_minor": 5
}
