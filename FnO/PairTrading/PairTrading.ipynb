{
 "cells": [
  {
   "cell_type": "code",
   "execution_count": 3,
   "id": "913f5528",
   "metadata": {},
   "outputs": [],
   "source": [
    "import requests\n",
    "from nsepython import *\n",
    "import csv\n",
    "from bs4 import BeautifulSoup\n",
    "import pandas as pd\n",
    "import yfinance as yf\n",
    "import seaborn as sns\n",
    "import matplotlib.pyplot as plt\n",
    "from matplotlib.backends.backend_pdf import PdfPages\n",
    "\n",
    "import plotly.graph_objects as go\n",
    "from plotly.subplots import make_subplots\n",
    "import itertools"
   ]
  },
  {
   "cell_type": "code",
   "execution_count": 7,
   "id": "5b5b7654",
   "metadata": {},
   "outputs": [
    {
     "name": "stdout",
     "output_type": "stream",
     "text": [
      "[('HDFCBANK', 'HCLTECH'), ('HDFCBANK', 'WIPRO'), ('HDFCBANK', 'INFY'), ('HDFCBANK', 'COFORGE'), ('HDFCBANK', 'PERSISTENT'), ('ICICIBANK', 'HCLTECH'), ('ICICIBANK', 'WIPRO'), ('ICICIBANK', 'INFY'), ('ICICIBANK', 'COFORGE'), ('ICICIBANK', 'PERSISTENT'), ('KOTAKBANK', 'HCLTECH'), ('KOTAKBANK', 'WIPRO'), ('KOTAKBANK', 'INFY'), ('KOTAKBANK', 'COFORGE'), ('KOTAKBANK', 'PERSISTENT'), ('AXISBANK', 'HCLTECH'), ('AXISBANK', 'WIPRO'), ('AXISBANK', 'INFY'), ('AXISBANK', 'COFORGE'), ('AXISBANK', 'PERSISTENT'), ('INDUSINDBK', 'HCLTECH'), ('INDUSINDBK', 'WIPRO'), ('INDUSINDBK', 'INFY'), ('INDUSINDBK', 'COFORGE'), ('INDUSINDBK', 'PERSISTENT'), ('AUBANK', 'HCLTECH'), ('AUBANK', 'WIPRO'), ('AUBANK', 'INFY'), ('AUBANK', 'COFORGE'), ('AUBANK', 'PERSISTENT')]\n"
     ]
    }
   ],
   "source": [
    "def download_stock_data(symbol, start_date, end_date):\n",
    "    return yf.download(symbol + \".NS\", start=start_date, end=end_date, progress=False)\n",
    "\n",
    "def calculate_pair_ratio(stock1_close, stock2_close):\n",
    "    return stock1_close / stock2_close\n",
    "\n",
    "def plot_pair_trading(symbol1, symbol2, data1, data2):\n",
    "    data1 = data1.iloc[-150:]\n",
    "    data2 = data2.iloc[-150:]\n",
    "    \n",
    "    # Check if lengths of dataframes are equal\n",
    "    if len(data1) != len(data2):\n",
    "        raise ValueError(\"Data lengths are not equal\")\n",
    "\n",
    "    # Prepare plot data\n",
    "    pair_ratio = calculate_pair_ratio(data1['Close'], data2['Close'])\n",
    "    \n",
    "    # Create figure\n",
    "    fig = go.Figure()\n",
    "\n",
    "    # Add pair ratio trace\n",
    "    fig.add_trace(go.Scatter(x=data1.index, y=pair_ratio, mode='lines', name=f'{symbol1}/{symbol2}'))\n",
    "\n",
    "    # Add layout\n",
    "    fig.update_layout(title=f'{symbol1} / {symbol2} Pair Trading Ratio', xaxis_title='Date', yaxis_title='Ratio')\n",
    "\n",
    "    return fig\n",
    "\n",
    "if __name__ == \"__main__\":\n",
    "    figure_html = open('fno_pairs.html', 'w')\n",
    "\n",
    "    # Extract the first 6 elements\n",
    "    first_six = ['HDFCBANK', 'ICICIBANK', 'KOTAKBANK', 'AXISBANK', 'INDUSINDBK', 'AUBANK']\n",
    "    # Extract the last 5 elements\n",
    "    last_five = ['HCLTECH', 'WIPRO', 'INFY', 'COFORGE', 'PERSISTENT']\n",
    "\n",
    "    # Generate combinations of first 6 with all last 5\n",
    "    combinations = list(itertools.product(first_six, last_five))\n",
    "\n",
    "    for symbol1, symbol2 in combinations:\n",
    "        # Download data for both symbols\n",
    "        start_date = pd.to_datetime('today') - pd.DateOffset(365)\n",
    "        end_date = pd.to_datetime('today') + pd.DateOffset(1)\n",
    "        data1 = download_stock_data(symbol1, start_date, end_date)\n",
    "        data2 = download_stock_data(symbol2, start_date, end_date)\n",
    "\n",
    "        # Plot pair trading\n",
    "        figure = plot_pair_trading(symbol1, symbol2, data1, data2)\n",
    "\n",
    "        # Write the plot to an HTML file\n",
    "        figure_html.write(figure.to_html(full_html=False))"
   ]
  },
  {
   "cell_type": "code",
   "execution_count": null,
   "id": "bd0d2cb2",
   "metadata": {},
   "outputs": [],
   "source": []
  },
  {
   "cell_type": "code",
   "execution_count": null,
   "id": "2f3b4871",
   "metadata": {},
   "outputs": [],
   "source": []
  },
  {
   "cell_type": "code",
   "execution_count": null,
   "id": "ade36db1",
   "metadata": {},
   "outputs": [],
   "source": []
  },
  {
   "cell_type": "code",
   "execution_count": null,
   "id": "b2a97ff5",
   "metadata": {},
   "outputs": [],
   "source": [
    "fno_symbols = fnolist()\n",
    "fno_stocks = [symbol for symbol in fno_symbols if symbol not in ['NIFTY', 'NIFTYIT', 'BANKNIFTY']]"
   ]
  },
  {
   "cell_type": "code",
   "execution_count": null,
   "id": "cf59218a",
   "metadata": {},
   "outputs": [],
   "source": [
    "list1 = fno_stocks\n",
    "list2 = ['UPL', 'NAVINFLUOR']\n",
    "\n",
    "result = [x for x in list1 if x not in list2]\n",
    "result"
   ]
  },
  {
   "cell_type": "code",
   "execution_count": null,
   "id": "c87648c8",
   "metadata": {},
   "outputs": [],
   "source": [
    "import pandas as pd\n",
    "import yfinance as yf\n",
    "import itertools\n",
    "\n",
    "def download_stock_data(symbol, start_date, end_date):\n",
    "    return yf.download(symbol, start=start_date, end=end_date, progress=False)['Close']\n",
    "\n",
    "if __name__ == \"__main__\":\n",
    "    # Define the list of stock symbols\n",
    "    symbols = result\n",
    "    # Download data for all stocks\n",
    "    start_date = pd.to_datetime('today') - pd.DateOffset(365)\n",
    "    end_date = pd.to_datetime('today') + pd.DateOffset(1)\n",
    "    stock_data = {symbol: download_stock_data(symbol+'.NS', start_date, end_date) for symbol in symbols}\n",
    "\n",
    "    # Calculate correlation between all pairs\n",
    "    correlations = {}\n",
    "    for pair in itertools.combinations(symbols, 2):\n",
    "        symbol1, symbol2 = pair\n",
    "        data1 = stock_data[symbol1]\n",
    "        data2 = stock_data[symbol2]\n",
    "        correlation = data1.corr(data2)\n",
    "        correlations[pair] = correlation\n",
    "\n",
    "    # Sort pairs by correlation coefficient\n",
    "    sorted_pairs = sorted(correlations.items(), key=lambda x: x[1], reverse=True)\n",
    "\n",
    "    # Print top pairs with high correlation\n",
    "    for pair, correlation in sorted_pairs[:5]:\n",
    "        print(f\"{pair}: Correlation = {correlation}\")"
   ]
  },
  {
   "cell_type": "code",
   "execution_count": null,
   "id": "a48b8bd3",
   "metadata": {},
   "outputs": [],
   "source": [
    "sorted_pairs[-50:]"
   ]
  },
  {
   "cell_type": "code",
   "execution_count": null,
   "id": "388860d4",
   "metadata": {},
   "outputs": [],
   "source": []
  }
 ],
 "metadata": {
  "kernelspec": {
   "display_name": "Python 3 (ipykernel)",
   "language": "python",
   "name": "python3"
  },
  "language_info": {
   "codemirror_mode": {
    "name": "ipython",
    "version": 3
   },
   "file_extension": ".py",
   "mimetype": "text/x-python",
   "name": "python",
   "nbconvert_exporter": "python",
   "pygments_lexer": "ipython3",
   "version": "3.11.5"
  }
 },
 "nbformat": 4,
 "nbformat_minor": 5
}
