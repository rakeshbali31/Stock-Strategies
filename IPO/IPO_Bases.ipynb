{
 "cells": [
  {
   "cell_type": "code",
   "id": "initial_id",
   "metadata": {
    "collapsed": true,
    "ExecuteTime": {
     "end_time": "2025-01-21T07:50:25.784717Z",
     "start_time": "2025-01-21T07:50:24.372263Z"
    }
   },
   "source": [
    "import time\n",
    "import requests\n",
    "import csv\n",
    "import numpy as np\n",
    "from scipy.stats import iqr\n",
    "from bs4 import BeautifulSoup\n",
    "import pandas as pd\n",
    "import yfinance as yf\n",
    "\n",
    "import plotly.graph_objects as go\n",
    "from plotly.subplots import make_subplots\n",
    "\n",
    "from nsepython import *\n",
    "from bsedata.bse import BSE\n",
    "bse = BSE(update_codes = True)"
   ],
   "execution_count": 1,
   "outputs": []
  },
  {
   "metadata": {
    "ExecuteTime": {
     "end_time": "2025-01-21T07:50:26.612217Z",
     "start_time": "2025-01-21T07:50:25.786366Z"
    }
   },
   "cell_type": "code",
   "source": [
    "# Session ID and CSRF token obtained from somewhere (e.g., through authentication)\n",
    "session_id = '6odudjtarsmhbs9bcw0ogkpwbgem1xde'\n",
    "csrf_token = 'OGwEq4RNQN2KReVvHdSR6b0UGHrSFtqt'\n",
    "\n",
    "# Construct headers with session ID and CSRF token\n",
    "headers = {\n",
    "    'Cookie': f'sessionid={session_id}',  # Assuming the session ID is passed via cookie\n",
    "    'X-CSRFToken': csrf_token  # Assuming the CSRF token is passed in a header\n",
    "}\n",
    "\n",
    "# Initialize an empty list to store the symbols\n",
    "symbols = []\n",
    "\n",
    "# Loop through pages 1 to 5\n",
    "for page in range(1, 4):  # Pages 1 to 5\n",
    "    url = f'https://www.screener.in/ipo/recent/?page={page}'\n",
    "    response = requests.get(url, headers=headers)\n",
    "    \n",
    "    if response.status_code == 200:\n",
    "        # Parse the response text with BeautifulSoup\n",
    "        soup = BeautifulSoup(response.text, 'html.parser')\n",
    "        table = soup.find('table', class_='data-table')\n",
    "        if table:\n",
    "            rows = table.find_all('tr')\n",
    "            for row in rows[1:]:  # Skipping header row\n",
    "                cols = row.find_all('td')\n",
    "                if cols and len(cols) > 0:\n",
    "                    symbol = str(cols[0].find('a')).split('/')[2]  # Extract symbol\n",
    "                    symbols.append(symbol)\n",
    "    else:\n",
    "        print(f\"Failed to fetch page {page}. Status code: {response.status_code}\")\n",
    "\n",
    "symbols.remove('id')\n",
    "# Print the collected symbols\n",
    "print(\"Collected Symbols:\")\n",
    "print(symbols)"
   ],
   "id": "713da29fbb4a3f8f",
   "execution_count": 2,
   "outputs": []
  },
  {
   "metadata": {
    "ExecuteTime": {
     "end_time": "2025-01-21T07:51:17.317877Z",
     "start_time": "2025-01-21T07:50:26.613448Z"
    }
   },
   "cell_type": "code",
   "source": [
    "def download_stock_data(symbol):\n",
    "    if any(char.isdigit() for char in symbol):\n",
    "        return yf.download(bse.getQuote(symbol)['securityID'] + \".BO\", start=pd.to_datetime('today') - pd.DateOffset(365),\n",
    "                       end=pd.to_datetime('today') + pd.DateOffset(1), progress=False)\n",
    "    else:\n",
    "        return yf.download(symbol + \".NS\", start=pd.to_datetime('today') - pd.DateOffset(365),\n",
    "                       end=pd.to_datetime('today') + pd.DateOffset(1), progress=False)\n",
    "    \n",
    "    \n",
    "def calculate_technical_indicators(data):\n",
    "    data['5DMA'] = data['Close'].rolling(window=5).mean()\n",
    "    data['20DMA'] = data['Close'].rolling(window=20).mean()\n",
    "    data['50DMA'] = data['Close'].rolling(window=50).mean()\n",
    "    data['100DMA'] = data['Close'].rolling(window=100).mean()\n",
    "    data['diff'] = data['Close'] - data['Open']\n",
    "    data['color'] = data['diff'].apply(lambda x: 'green' if x >= 0 else 'red')\n",
    "    return data\n",
    "    \n",
    "\n",
    "def plot_stock_data(symbol, data):\n",
    "    plot_data = data\n",
    "    \n",
    "    # Setup subplot layout\n",
    "    figure = make_subplots(rows=1, cols=1, specs=[[{\"secondary_y\": True}]])\n",
    "    \n",
    "    # Plot candlestick chart\n",
    "    figure.add_trace(go.Candlestick(x=plot_data.index,\n",
    "                                    open=plot_data['Open'],\n",
    "                                    high=plot_data['High'],\n",
    "                                    low=plot_data['Low'],\n",
    "                                    close=plot_data['Close'],\n",
    "                                    name='Price'), row=1, col=1)\n",
    "    \n",
    "    # Plot moving averages\n",
    "    for ma, color in zip(['5DMA', '20DMA', '50DMA', '100DMA'], ['yellow', 'blue', 'orange', 'green']):\n",
    "        figure.add_trace(go.Scatter(x=plot_data.index, y=plot_data[ma], marker_color=color, name=f'{ma}'), row=1, col=1)\n",
    "\n",
    "    # Plot volume with color-coded bars (green for positive, red for negative days)\n",
    "    figure.add_trace(go.Bar(x=plot_data.index, y=plot_data['Volume'], name='Volume',\n",
    "                            marker={'color': plot_data['color']}), secondary_y=True, row=1, col=1)\n",
    "\n",
    "    # Update axes\n",
    "    figure.update_yaxes(range=[plot_data['Close'].min()*0.8, plot_data['Close'].max()*1.2], row=1, col=1)\n",
    "    figure.update_xaxes(rangebreaks=[dict(bounds=['sat', 'mon'])], row=1, col=1)  # Hide weekends\n",
    "    figure.update_layout(title={'text': symbol, 'x': 0.5}, xaxis_rangeslider_visible=False)\n",
    "\n",
    "    # Hide the secondary Y-axis (volume)\n",
    "    figure.update_yaxes(range=[0, plot_data['Volume'].max()*5], secondary_y=True, row=1, col=1)\n",
    "    figure.update_yaxes(visible=False, secondary_y=True, row=1, col=1)\n",
    "\n",
    "    return figure\n",
    "\n",
    "\n",
    "def process_stocks(all_symbols):\n",
    "    figure_html = open(f'/Users/rakeshbali/Imperial/Stock Research/Shortlisted/IPO/IPO.html', 'w')\n",
    "    for symbol in all_symbols:\n",
    "        try:\n",
    "            data = download_stock_data(symbol)\n",
    "            data = calculate_technical_indicators(data)\n",
    "            figure = plot_stock_data(symbol, data)\n",
    "            figure_html.write(figure.to_html(full_html=False))\n",
    "        except Exception as e:\n",
    "            e \n",
    "    figure_html.close()\n",
    "\n",
    "\n",
    "if __name__ == \"__main__\":\n",
    "    process_stocks(symbols)\n",
    "    print('Execution Completed!!!!')"
   ],
   "id": "13e6c2668582fd39",
   "execution_count": 3,
   "outputs": []
  },
  {
   "metadata": {
    "ExecuteTime": {
     "end_time": "2025-01-21T07:51:17.320867Z",
     "start_time": "2025-01-21T07:51:17.319097Z"
    }
   },
   "cell_type": "code",
   "source": "",
   "id": "c9d7f92633c42a1b",
   "execution_count": 3,
   "outputs": []
  }
 ],
 "metadata": {
  "kernelspec": {
   "display_name": "Python 3",
   "language": "python",
   "name": "python3"
  },
  "language_info": {
   "codemirror_mode": {
    "name": "ipython",
    "version": 2
   },
   "file_extension": ".py",
   "mimetype": "text/x-python",
   "name": "python",
   "nbconvert_exporter": "python",
   "pygments_lexer": "ipython2",
   "version": "2.7.6"
  }
 },
 "nbformat": 4,
 "nbformat_minor": 5
}
